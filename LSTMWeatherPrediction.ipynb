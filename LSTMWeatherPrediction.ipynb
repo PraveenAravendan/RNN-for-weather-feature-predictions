{
  "nbformat": 4,
  "nbformat_minor": 0,
  "metadata": {
    "colab": {
      "name": "BigDataProject.ipynb",
      "provenance": [],
      "collapsed_sections": []
    },
    "kernelspec": {
      "name": "python3",
      "display_name": "Python 3"
    },
    "accelerator": "GPU"
  },
  "cells": [
    {
      "cell_type": "markdown",
      "metadata": {
        "id": "66nfJgmZt90_",
        "colab_type": "text"
      },
      "source": [
        "**Applying Recurrent Neural Networks for Weather feature predictions**"
      ]
    },
    {
      "cell_type": "code",
      "metadata": {
        "id": "PzhR7HDv_X8r",
        "colab_type": "code",
        "colab": {}
      },
      "source": [
        "import numpy as np\n",
        "import pandas as pd\n",
        "import keras\n",
        "from keras.models import Sequential\n",
        "from keras.layers import LSTM,Dense ,Dropout\n",
        "import sklearn\n",
        "from sklearn.preprocessing import MinMaxScaler\n",
        "import matplotlib.pyplot as plt"
      ],
      "execution_count": null,
      "outputs": []
    },
    {
      "cell_type": "code",
      "metadata": {
        "id": "zlx5Kt5C_h3D",
        "colab_type": "code",
        "colab": {
          "resources": {
            "http://localhost:8080/nbextensions/google.colab/files.js": {
              "data": "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",
              "ok": true,
              "headers": [
                [
                  "content-type",
                  "application/javascript"
                ]
              ],
              "status": 200,
              "status_text": ""
            }
          },
          "base_uri": "https://localhost:8080/",
          "height": 73
        },
        "outputId": "863fd668-5f99-4d77-a743-7cc5bf1f471f"
      },
      "source": [
        "from google.colab import files\n",
        "data_to_load = files.upload()"
      ],
      "execution_count": null,
      "outputs": [
        {
          "output_type": "display_data",
          "data": {
            "text/html": [
              "\n",
              "     <input type=\"file\" id=\"files-7f5cc232-1b95-4fe1-8ad4-49e3e5ba13df\" name=\"files[]\" multiple disabled\n",
              "        style=\"border:none\" />\n",
              "     <output id=\"result-7f5cc232-1b95-4fe1-8ad4-49e3e5ba13df\">\n",
              "      Upload widget is only available when the cell has been executed in the\n",
              "      current browser session. Please rerun this cell to enable.\n",
              "      </output>\n",
              "      <script src=\"/nbextensions/google.colab/files.js\"></script> "
            ],
            "text/plain": [
              "<IPython.core.display.HTML object>"
            ]
          },
          "metadata": {
            "tags": []
          }
        },
        {
          "output_type": "stream",
          "text": [
            "Saving temperature.csv to temperature (1).csv\n"
          ],
          "name": "stdout"
        }
      ]
    },
    {
      "cell_type": "markdown",
      "metadata": {
        "id": "3J3xAn1T6tLP",
        "colab_type": "text"
      },
      "source": [
        "# ***TEMPERATURE***\n",
        "\n",
        "---\n",
        "\n"
      ]
    },
    {
      "cell_type": "code",
      "metadata": {
        "id": "X_Ydhco7AgzK",
        "colab_type": "code",
        "colab": {}
      },
      "source": [
        "import io\n",
        "df = pd.read_csv(io.BytesIO(data_to_load['temperature.csv']))"
      ],
      "execution_count": null,
      "outputs": []
    },
    {
      "cell_type": "code",
      "metadata": {
        "id": "DpovbVPmBnL0",
        "colab_type": "code",
        "colab": {
          "base_uri": "https://localhost:8080/",
          "height": 799
        },
        "outputId": "1d42e85b-6005-454d-b78d-551799b67482"
      },
      "source": [
        "display(df)"
      ],
      "execution_count": null,
      "outputs": [
        {
          "output_type": "display_data",
          "data": {
            "text/html": [
              "<div>\n",
              "<style scoped>\n",
              "    .dataframe tbody tr th:only-of-type {\n",
              "        vertical-align: middle;\n",
              "    }\n",
              "\n",
              "    .dataframe tbody tr th {\n",
              "        vertical-align: top;\n",
              "    }\n",
              "\n",
              "    .dataframe thead th {\n",
              "        text-align: right;\n",
              "    }\n",
              "</style>\n",
              "<table border=\"1\" class=\"dataframe\">\n",
              "  <thead>\n",
              "    <tr style=\"text-align: right;\">\n",
              "      <th></th>\n",
              "      <th>datetime</th>\n",
              "      <th>Vancouver</th>\n",
              "      <th>Portland</th>\n",
              "      <th>San Francisco</th>\n",
              "      <th>Seattle</th>\n",
              "      <th>Los Angeles</th>\n",
              "      <th>San Diego</th>\n",
              "      <th>Las Vegas</th>\n",
              "      <th>Phoenix</th>\n",
              "      <th>Albuquerque</th>\n",
              "      <th>Denver</th>\n",
              "      <th>San Antonio</th>\n",
              "      <th>Dallas</th>\n",
              "      <th>Houston</th>\n",
              "      <th>Kansas City</th>\n",
              "      <th>Minneapolis</th>\n",
              "      <th>Saint Louis</th>\n",
              "      <th>Chicago</th>\n",
              "      <th>Nashville</th>\n",
              "      <th>Indianapolis</th>\n",
              "      <th>Atlanta</th>\n",
              "      <th>Detroit</th>\n",
              "      <th>Jacksonville</th>\n",
              "      <th>Charlotte</th>\n",
              "      <th>Miami</th>\n",
              "      <th>Pittsburgh</th>\n",
              "      <th>Toronto</th>\n",
              "      <th>Philadelphia</th>\n",
              "      <th>New York</th>\n",
              "      <th>Montreal</th>\n",
              "      <th>Boston</th>\n",
              "      <th>Beersheba</th>\n",
              "      <th>Tel Aviv District</th>\n",
              "      <th>Eilat</th>\n",
              "      <th>Haifa</th>\n",
              "      <th>Nahariyya</th>\n",
              "      <th>Jerusalem</th>\n",
              "    </tr>\n",
              "  </thead>\n",
              "  <tbody>\n",
              "    <tr>\n",
              "      <th>0</th>\n",
              "      <td>2012-10-01 12:00:00</td>\n",
              "      <td>NaN</td>\n",
              "      <td>NaN</td>\n",
              "      <td>NaN</td>\n",
              "      <td>NaN</td>\n",
              "      <td>NaN</td>\n",
              "      <td>NaN</td>\n",
              "      <td>NaN</td>\n",
              "      <td>NaN</td>\n",
              "      <td>NaN</td>\n",
              "      <td>NaN</td>\n",
              "      <td>NaN</td>\n",
              "      <td>NaN</td>\n",
              "      <td>NaN</td>\n",
              "      <td>NaN</td>\n",
              "      <td>NaN</td>\n",
              "      <td>NaN</td>\n",
              "      <td>NaN</td>\n",
              "      <td>NaN</td>\n",
              "      <td>NaN</td>\n",
              "      <td>NaN</td>\n",
              "      <td>NaN</td>\n",
              "      <td>NaN</td>\n",
              "      <td>NaN</td>\n",
              "      <td>NaN</td>\n",
              "      <td>NaN</td>\n",
              "      <td>NaN</td>\n",
              "      <td>NaN</td>\n",
              "      <td>NaN</td>\n",
              "      <td>NaN</td>\n",
              "      <td>NaN</td>\n",
              "      <td>NaN</td>\n",
              "      <td>NaN</td>\n",
              "      <td>309.100000</td>\n",
              "      <td>NaN</td>\n",
              "      <td>NaN</td>\n",
              "      <td>NaN</td>\n",
              "    </tr>\n",
              "    <tr>\n",
              "      <th>1</th>\n",
              "      <td>2012-10-01 13:00:00</td>\n",
              "      <td>284.630000</td>\n",
              "      <td>282.080000</td>\n",
              "      <td>289.480000</td>\n",
              "      <td>281.800000</td>\n",
              "      <td>291.870000</td>\n",
              "      <td>291.530000</td>\n",
              "      <td>293.410000</td>\n",
              "      <td>296.600000</td>\n",
              "      <td>285.120000</td>\n",
              "      <td>284.610000</td>\n",
              "      <td>289.290000</td>\n",
              "      <td>289.740000</td>\n",
              "      <td>288.270000</td>\n",
              "      <td>289.980000</td>\n",
              "      <td>286.870000</td>\n",
              "      <td>286.180000</td>\n",
              "      <td>284.010000</td>\n",
              "      <td>287.410000</td>\n",
              "      <td>283.850000</td>\n",
              "      <td>294.030000</td>\n",
              "      <td>284.030000</td>\n",
              "      <td>298.170000</td>\n",
              "      <td>288.650000</td>\n",
              "      <td>299.720000</td>\n",
              "      <td>281.000000</td>\n",
              "      <td>286.260000</td>\n",
              "      <td>285.630000</td>\n",
              "      <td>288.220000</td>\n",
              "      <td>285.830000</td>\n",
              "      <td>287.170000</td>\n",
              "      <td>307.590000</td>\n",
              "      <td>305.470000</td>\n",
              "      <td>310.580000</td>\n",
              "      <td>304.4</td>\n",
              "      <td>304.4</td>\n",
              "      <td>303.5</td>\n",
              "    </tr>\n",
              "    <tr>\n",
              "      <th>2</th>\n",
              "      <td>2012-10-01 14:00:00</td>\n",
              "      <td>284.629041</td>\n",
              "      <td>282.083252</td>\n",
              "      <td>289.474993</td>\n",
              "      <td>281.797217</td>\n",
              "      <td>291.868186</td>\n",
              "      <td>291.533501</td>\n",
              "      <td>293.403141</td>\n",
              "      <td>296.608509</td>\n",
              "      <td>285.154558</td>\n",
              "      <td>284.607306</td>\n",
              "      <td>289.303649</td>\n",
              "      <td>289.762974</td>\n",
              "      <td>288.297576</td>\n",
              "      <td>289.997635</td>\n",
              "      <td>286.893636</td>\n",
              "      <td>286.185246</td>\n",
              "      <td>284.054691</td>\n",
              "      <td>287.421360</td>\n",
              "      <td>283.889394</td>\n",
              "      <td>294.035341</td>\n",
              "      <td>284.069789</td>\n",
              "      <td>298.205230</td>\n",
              "      <td>288.650172</td>\n",
              "      <td>299.732518</td>\n",
              "      <td>281.024767</td>\n",
              "      <td>286.262541</td>\n",
              "      <td>285.663208</td>\n",
              "      <td>288.247676</td>\n",
              "      <td>285.834650</td>\n",
              "      <td>287.186092</td>\n",
              "      <td>307.590000</td>\n",
              "      <td>304.310000</td>\n",
              "      <td>310.495769</td>\n",
              "      <td>304.4</td>\n",
              "      <td>304.4</td>\n",
              "      <td>303.5</td>\n",
              "    </tr>\n",
              "    <tr>\n",
              "      <th>3</th>\n",
              "      <td>2012-10-01 15:00:00</td>\n",
              "      <td>284.626998</td>\n",
              "      <td>282.091866</td>\n",
              "      <td>289.460618</td>\n",
              "      <td>281.789833</td>\n",
              "      <td>291.862844</td>\n",
              "      <td>291.543355</td>\n",
              "      <td>293.392177</td>\n",
              "      <td>296.631487</td>\n",
              "      <td>285.233952</td>\n",
              "      <td>284.599918</td>\n",
              "      <td>289.338497</td>\n",
              "      <td>289.830767</td>\n",
              "      <td>288.334343</td>\n",
              "      <td>290.038151</td>\n",
              "      <td>286.951401</td>\n",
              "      <td>286.199194</td>\n",
              "      <td>284.177412</td>\n",
              "      <td>287.454637</td>\n",
              "      <td>283.941919</td>\n",
              "      <td>294.049702</td>\n",
              "      <td>284.173965</td>\n",
              "      <td>298.299595</td>\n",
              "      <td>288.650582</td>\n",
              "      <td>299.766579</td>\n",
              "      <td>281.088319</td>\n",
              "      <td>286.269518</td>\n",
              "      <td>285.756824</td>\n",
              "      <td>288.326940</td>\n",
              "      <td>285.847790</td>\n",
              "      <td>287.231672</td>\n",
              "      <td>307.391513</td>\n",
              "      <td>304.281841</td>\n",
              "      <td>310.411538</td>\n",
              "      <td>304.4</td>\n",
              "      <td>304.4</td>\n",
              "      <td>303.5</td>\n",
              "    </tr>\n",
              "    <tr>\n",
              "      <th>4</th>\n",
              "      <td>2012-10-01 16:00:00</td>\n",
              "      <td>284.624955</td>\n",
              "      <td>282.100481</td>\n",
              "      <td>289.446243</td>\n",
              "      <td>281.782449</td>\n",
              "      <td>291.857503</td>\n",
              "      <td>291.553209</td>\n",
              "      <td>293.381213</td>\n",
              "      <td>296.654466</td>\n",
              "      <td>285.313345</td>\n",
              "      <td>284.592530</td>\n",
              "      <td>289.373345</td>\n",
              "      <td>289.898560</td>\n",
              "      <td>288.371111</td>\n",
              "      <td>290.078666</td>\n",
              "      <td>287.009166</td>\n",
              "      <td>286.213142</td>\n",
              "      <td>284.300133</td>\n",
              "      <td>287.487914</td>\n",
              "      <td>283.994444</td>\n",
              "      <td>294.064063</td>\n",
              "      <td>284.278140</td>\n",
              "      <td>298.393961</td>\n",
              "      <td>288.650991</td>\n",
              "      <td>299.800641</td>\n",
              "      <td>281.151870</td>\n",
              "      <td>286.276496</td>\n",
              "      <td>285.850440</td>\n",
              "      <td>288.406203</td>\n",
              "      <td>285.860929</td>\n",
              "      <td>287.277251</td>\n",
              "      <td>307.145200</td>\n",
              "      <td>304.238015</td>\n",
              "      <td>310.327308</td>\n",
              "      <td>304.4</td>\n",
              "      <td>304.4</td>\n",
              "      <td>303.5</td>\n",
              "    </tr>\n",
              "    <tr>\n",
              "      <th>...</th>\n",
              "      <td>...</td>\n",
              "      <td>...</td>\n",
              "      <td>...</td>\n",
              "      <td>...</td>\n",
              "      <td>...</td>\n",
              "      <td>...</td>\n",
              "      <td>...</td>\n",
              "      <td>...</td>\n",
              "      <td>...</td>\n",
              "      <td>...</td>\n",
              "      <td>...</td>\n",
              "      <td>...</td>\n",
              "      <td>...</td>\n",
              "      <td>...</td>\n",
              "      <td>...</td>\n",
              "      <td>...</td>\n",
              "      <td>...</td>\n",
              "      <td>...</td>\n",
              "      <td>...</td>\n",
              "      <td>...</td>\n",
              "      <td>...</td>\n",
              "      <td>...</td>\n",
              "      <td>...</td>\n",
              "      <td>...</td>\n",
              "      <td>...</td>\n",
              "      <td>...</td>\n",
              "      <td>...</td>\n",
              "      <td>...</td>\n",
              "      <td>...</td>\n",
              "      <td>...</td>\n",
              "      <td>...</td>\n",
              "      <td>...</td>\n",
              "      <td>...</td>\n",
              "      <td>...</td>\n",
              "      <td>...</td>\n",
              "      <td>...</td>\n",
              "      <td>...</td>\n",
              "    </tr>\n",
              "    <tr>\n",
              "      <th>45248</th>\n",
              "      <td>2017-11-29 20:00:00</td>\n",
              "      <td>NaN</td>\n",
              "      <td>282.000000</td>\n",
              "      <td>NaN</td>\n",
              "      <td>280.820000</td>\n",
              "      <td>293.550000</td>\n",
              "      <td>292.150000</td>\n",
              "      <td>289.540000</td>\n",
              "      <td>294.710000</td>\n",
              "      <td>285.720000</td>\n",
              "      <td>289.560000</td>\n",
              "      <td>294.700000</td>\n",
              "      <td>290.480000</td>\n",
              "      <td>295.150000</td>\n",
              "      <td>285.330000</td>\n",
              "      <td>279.790000</td>\n",
              "      <td>285.410000</td>\n",
              "      <td>281.340000</td>\n",
              "      <td>292.890000</td>\n",
              "      <td>285.980000</td>\n",
              "      <td>290.040000</td>\n",
              "      <td>281.250000</td>\n",
              "      <td>296.920000</td>\n",
              "      <td>294.150000</td>\n",
              "      <td>NaN</td>\n",
              "      <td>285.300000</td>\n",
              "      <td>278.740000</td>\n",
              "      <td>290.240000</td>\n",
              "      <td>NaN</td>\n",
              "      <td>275.130000</td>\n",
              "      <td>288.080000</td>\n",
              "      <td>NaN</td>\n",
              "      <td>NaN</td>\n",
              "      <td>NaN</td>\n",
              "      <td>NaN</td>\n",
              "      <td>NaN</td>\n",
              "      <td>NaN</td>\n",
              "    </tr>\n",
              "    <tr>\n",
              "      <th>45249</th>\n",
              "      <td>2017-11-29 21:00:00</td>\n",
              "      <td>NaN</td>\n",
              "      <td>282.890000</td>\n",
              "      <td>NaN</td>\n",
              "      <td>281.650000</td>\n",
              "      <td>295.680000</td>\n",
              "      <td>292.740000</td>\n",
              "      <td>290.610000</td>\n",
              "      <td>295.590000</td>\n",
              "      <td>286.450000</td>\n",
              "      <td>290.700000</td>\n",
              "      <td>295.820000</td>\n",
              "      <td>291.020000</td>\n",
              "      <td>295.820000</td>\n",
              "      <td>285.160000</td>\n",
              "      <td>280.220000</td>\n",
              "      <td>286.010000</td>\n",
              "      <td>281.690000</td>\n",
              "      <td>292.400000</td>\n",
              "      <td>286.170000</td>\n",
              "      <td>291.420000</td>\n",
              "      <td>281.050000</td>\n",
              "      <td>296.920000</td>\n",
              "      <td>293.900000</td>\n",
              "      <td>NaN</td>\n",
              "      <td>285.330000</td>\n",
              "      <td>278.750000</td>\n",
              "      <td>289.240000</td>\n",
              "      <td>NaN</td>\n",
              "      <td>274.130000</td>\n",
              "      <td>286.020000</td>\n",
              "      <td>NaN</td>\n",
              "      <td>NaN</td>\n",
              "      <td>NaN</td>\n",
              "      <td>NaN</td>\n",
              "      <td>NaN</td>\n",
              "      <td>NaN</td>\n",
              "    </tr>\n",
              "    <tr>\n",
              "      <th>45250</th>\n",
              "      <td>2017-11-29 22:00:00</td>\n",
              "      <td>NaN</td>\n",
              "      <td>283.390000</td>\n",
              "      <td>NaN</td>\n",
              "      <td>282.750000</td>\n",
              "      <td>295.960000</td>\n",
              "      <td>292.580000</td>\n",
              "      <td>291.340000</td>\n",
              "      <td>296.250000</td>\n",
              "      <td>286.440000</td>\n",
              "      <td>289.710000</td>\n",
              "      <td>296.040000</td>\n",
              "      <td>291.150000</td>\n",
              "      <td>296.370000</td>\n",
              "      <td>285.160000</td>\n",
              "      <td>279.920000</td>\n",
              "      <td>286.040000</td>\n",
              "      <td>281.070000</td>\n",
              "      <td>291.650000</td>\n",
              "      <td>284.210000</td>\n",
              "      <td>291.840000</td>\n",
              "      <td>280.170000</td>\n",
              "      <td>296.330000</td>\n",
              "      <td>292.060000</td>\n",
              "      <td>NaN</td>\n",
              "      <td>282.910000</td>\n",
              "      <td>277.550000</td>\n",
              "      <td>286.780000</td>\n",
              "      <td>NaN</td>\n",
              "      <td>273.480000</td>\n",
              "      <td>283.940000</td>\n",
              "      <td>NaN</td>\n",
              "      <td>NaN</td>\n",
              "      <td>NaN</td>\n",
              "      <td>NaN</td>\n",
              "      <td>NaN</td>\n",
              "      <td>NaN</td>\n",
              "    </tr>\n",
              "    <tr>\n",
              "      <th>45251</th>\n",
              "      <td>2017-11-29 23:00:00</td>\n",
              "      <td>NaN</td>\n",
              "      <td>283.020000</td>\n",
              "      <td>NaN</td>\n",
              "      <td>282.960000</td>\n",
              "      <td>295.650000</td>\n",
              "      <td>292.610000</td>\n",
              "      <td>292.150000</td>\n",
              "      <td>297.150000</td>\n",
              "      <td>286.140000</td>\n",
              "      <td>289.170000</td>\n",
              "      <td>295.280000</td>\n",
              "      <td>289.590000</td>\n",
              "      <td>294.650000</td>\n",
              "      <td>285.360000</td>\n",
              "      <td>279.070000</td>\n",
              "      <td>285.030000</td>\n",
              "      <td>280.060000</td>\n",
              "      <td>287.640000</td>\n",
              "      <td>283.200000</td>\n",
              "      <td>290.640000</td>\n",
              "      <td>278.060000</td>\n",
              "      <td>294.950000</td>\n",
              "      <td>287.580000</td>\n",
              "      <td>NaN</td>\n",
              "      <td>280.140000</td>\n",
              "      <td>276.160000</td>\n",
              "      <td>284.570000</td>\n",
              "      <td>NaN</td>\n",
              "      <td>272.480000</td>\n",
              "      <td>282.170000</td>\n",
              "      <td>NaN</td>\n",
              "      <td>NaN</td>\n",
              "      <td>NaN</td>\n",
              "      <td>NaN</td>\n",
              "      <td>NaN</td>\n",
              "      <td>NaN</td>\n",
              "    </tr>\n",
              "    <tr>\n",
              "      <th>45252</th>\n",
              "      <td>2017-11-30 00:00:00</td>\n",
              "      <td>NaN</td>\n",
              "      <td>282.280000</td>\n",
              "      <td>NaN</td>\n",
              "      <td>283.040000</td>\n",
              "      <td>294.930000</td>\n",
              "      <td>291.400000</td>\n",
              "      <td>291.640000</td>\n",
              "      <td>297.150000</td>\n",
              "      <td>284.700000</td>\n",
              "      <td>285.180000</td>\n",
              "      <td>292.020000</td>\n",
              "      <td>287.880000</td>\n",
              "      <td>291.440000</td>\n",
              "      <td>285.150000</td>\n",
              "      <td>278.080000</td>\n",
              "      <td>283.440000</td>\n",
              "      <td>278.460000</td>\n",
              "      <td>285.900000</td>\n",
              "      <td>282.780000</td>\n",
              "      <td>287.740000</td>\n",
              "      <td>276.590000</td>\n",
              "      <td>293.150000</td>\n",
              "      <td>285.610000</td>\n",
              "      <td>NaN</td>\n",
              "      <td>279.190000</td>\n",
              "      <td>274.510000</td>\n",
              "      <td>283.420000</td>\n",
              "      <td>NaN</td>\n",
              "      <td>271.800000</td>\n",
              "      <td>280.650000</td>\n",
              "      <td>NaN</td>\n",
              "      <td>NaN</td>\n",
              "      <td>NaN</td>\n",
              "      <td>NaN</td>\n",
              "      <td>NaN</td>\n",
              "      <td>NaN</td>\n",
              "    </tr>\n",
              "  </tbody>\n",
              "</table>\n",
              "<p>45253 rows × 37 columns</p>\n",
              "</div>"
            ],
            "text/plain": [
              "                  datetime   Vancouver    Portland  ...  Haifa  Nahariyya  Jerusalem\n",
              "0      2012-10-01 12:00:00         NaN         NaN  ...    NaN        NaN        NaN\n",
              "1      2012-10-01 13:00:00  284.630000  282.080000  ...  304.4      304.4      303.5\n",
              "2      2012-10-01 14:00:00  284.629041  282.083252  ...  304.4      304.4      303.5\n",
              "3      2012-10-01 15:00:00  284.626998  282.091866  ...  304.4      304.4      303.5\n",
              "4      2012-10-01 16:00:00  284.624955  282.100481  ...  304.4      304.4      303.5\n",
              "...                    ...         ...         ...  ...    ...        ...        ...\n",
              "45248  2017-11-29 20:00:00         NaN  282.000000  ...    NaN        NaN        NaN\n",
              "45249  2017-11-29 21:00:00         NaN  282.890000  ...    NaN        NaN        NaN\n",
              "45250  2017-11-29 22:00:00         NaN  283.390000  ...    NaN        NaN        NaN\n",
              "45251  2017-11-29 23:00:00         NaN  283.020000  ...    NaN        NaN        NaN\n",
              "45252  2017-11-30 00:00:00         NaN  282.280000  ...    NaN        NaN        NaN\n",
              "\n",
              "[45253 rows x 37 columns]"
            ]
          },
          "metadata": {
            "tags": []
          }
        }
      ]
    },
    {
      "cell_type": "code",
      "metadata": {
        "id": "ImmIQwqI-txc",
        "colab_type": "code",
        "colab": {}
      },
      "source": [
        "#keeping only the temperature column for each city and removing null values\n",
        "\n",
        "# temperature of san antonio\n",
        "tempS =  df.drop(df.iloc[:,0:11].columns, axis = 1); tempS = tempS.drop(tempS.iloc[:,1:].columns,axis =1)\n",
        "tempS = tempS.rename(columns={tempS.columns[0]: \" San Antonio temperature(K)\"})\n",
        "tempS = tempS.dropna(axis=0); tempS= tempS.reset_index(drop=True)\n",
        "\n",
        "# temperature of dallas\n",
        "tempD =  df.drop(df.iloc[:,0:12].columns, axis = 1); tempD = tempD.drop(tempD.iloc[:,1:].columns,axis =1)\n",
        "tempD = tempD.rename(columns={tempD.columns[0]: \" Dallas temperature(K)\"})\n",
        "tempD = tempD.dropna(axis=0); tempD= tempD.reset_index(drop=True)\n",
        "\n",
        "# temperature of houston\n",
        "tempH =  df.drop(df.iloc[:,0:13].columns, axis = 1); tempH = tempH.drop(tempH.iloc[:,1:].columns,axis =1)\n",
        "tempH = tempH.rename(columns={tempH.columns[0]: \" Houston temperature(K)\"})\n",
        "tempH = tempH.dropna(axis=0); tempH= tempH.reset_index(drop=True)\n"
      ],
      "execution_count": null,
      "outputs": []
    },
    {
      "cell_type": "code",
      "metadata": {
        "id": "YY-M3VzuiBtb",
        "colab_type": "code",
        "colab": {
          "base_uri": "https://localhost:8080/",
          "height": 35
        },
        "outputId": "4dba090a-57a1-43e7-fc7f-2da24ffef2e6"
      },
      "source": [
        "len(tempD)"
      ],
      "execution_count": null,
      "outputs": [
        {
          "output_type": "execute_result",
          "data": {
            "text/plain": [
              "45249"
            ]
          },
          "metadata": {
            "tags": []
          },
          "execution_count": 36
        }
      ]
    },
    {
      "cell_type": "markdown",
      "metadata": {
        "id": "CPACHHTmmCxo",
        "colab_type": "text"
      },
      "source": [
        "**MODELING FOR SAN ANTONIO CITY - TEMPERATURE**"
      ]
    },
    {
      "cell_type": "code",
      "metadata": {
        "id": "Y525lCUYjJ5-",
        "colab_type": "code",
        "colab": {}
      },
      "source": [
        "# Modeling for San Antonio Temperature\n",
        "training_data = tempS.iloc[:30000]; testing_data = tempS.iloc[30000:]\n",
        "\n",
        "#Normalizing the data\n",
        "scaler_sa = MinMaxScaler(feature_range=(0,1)); training_data_normalized = scaler_sa.fit_transform(training_data)"
      ],
      "execution_count": null,
      "outputs": []
    },
    {
      "cell_type": "code",
      "metadata": {
        "id": "TX86D4rK29Vj",
        "colab_type": "code",
        "colab": {}
      },
      "source": [
        "# Split into input and outputs for San Antonio temperature\n",
        "x_train_sa = []; y_train_sa = []\n",
        "next = 4; past= 30\n",
        "\n",
        "for i in range(0,len(training_data_normalized)-past-next+1):\n",
        "    x_train_sa.append(training_data_normalized[i : i + past , 0])     \n",
        "    y_train_sa.append(training_data_normalized[i + past : i + past + next , 0 ])"
      ],
      "execution_count": null,
      "outputs": []
    },
    {
      "cell_type": "code",
      "metadata": {
        "id": "yUpcwMSbpNMR",
        "colab_type": "code",
        "colab": {}
      },
      "source": [
        "x_train_sa , y_train_sa = np.array(x_train_sa), np.array(y_train_sa)\n",
        "\n",
        "#x_train_sa = np.reshape(x_train_sa, (x_train_sa.shape[0] , 1, x_train_sa.shape[1]) )\n",
        "x_train_sa = np.reshape(x_train_sa, (x_train_sa.shape[0] , x_train_sa.shape[1],1) )\n"
      ],
      "execution_count": null,
      "outputs": []
    },
    {
      "cell_type": "code",
      "metadata": {
        "id": "oDDLtp9OPYUJ",
        "colab_type": "code",
        "colab": {
          "base_uri": "https://localhost:8080/",
          "height": 35
        },
        "outputId": "3874e3d0-fd0d-47cd-f536-593749aa0399"
      },
      "source": [
        "x_train_sa.shape"
      ],
      "execution_count": null,
      "outputs": [
        {
          "output_type": "execute_result",
          "data": {
            "text/plain": [
              "(29967, 30, 1)"
            ]
          },
          "metadata": {
            "tags": []
          },
          "execution_count": 40
        }
      ]
    },
    {
      "cell_type": "code",
      "metadata": {
        "id": "v9brC2_UpVkv",
        "colab_type": "code",
        "colab": {
          "base_uri": "https://localhost:8080/",
          "height": 884
        },
        "outputId": "34bafbc4-ad74-4069-9ce0-4621e30f53d4"
      },
      "source": [
        "# Training for 25 Epochs\n",
        "model_saTemp = Sequential()\n",
        "\n",
        "model_saTemp.add(LSTM(units=30, input_shape = (x_train_sa.shape[1],1))); model_saTemp.add(Dense(units = next,activation='softmax'))\n",
        "model_saTemp.compile(optimizer='adam', loss='mean_squared_error',metrics=['acc'])\n",
        "\n",
        "history_sa = model_saTemp.fit(x_train_sa, y_train_sa, epochs=25,batch_size=100 )"
      ],
      "execution_count": null,
      "outputs": [
        {
          "output_type": "stream",
          "text": [
            "Epoch 1/25\n",
            "300/300 [==============================] - 1s 4ms/step - loss: 0.1353 - acc: 0.5492\n",
            "Epoch 2/25\n",
            "300/300 [==============================] - 1s 4ms/step - loss: 0.1351 - acc: 0.6868\n",
            "Epoch 3/25\n",
            "300/300 [==============================] - 1s 4ms/step - loss: 0.1351 - acc: 0.6884\n",
            "Epoch 4/25\n",
            "300/300 [==============================] - 1s 4ms/step - loss: 0.1351 - acc: 0.6908\n",
            "Epoch 5/25\n",
            "300/300 [==============================] - 1s 4ms/step - loss: 0.1351 - acc: 0.6909\n",
            "Epoch 6/25\n",
            "300/300 [==============================] - 1s 4ms/step - loss: 0.1351 - acc: 0.6921\n",
            "Epoch 7/25\n",
            "300/300 [==============================] - 1s 4ms/step - loss: 0.1351 - acc: 0.6898\n",
            "Epoch 8/25\n",
            "300/300 [==============================] - 1s 4ms/step - loss: 0.1351 - acc: 0.6915\n",
            "Epoch 9/25\n",
            "300/300 [==============================] - 1s 4ms/step - loss: 0.1351 - acc: 0.6920\n",
            "Epoch 10/25\n",
            "300/300 [==============================] - 1s 4ms/step - loss: 0.1351 - acc: 0.6940\n",
            "Epoch 11/25\n",
            "300/300 [==============================] - 1s 4ms/step - loss: 0.1351 - acc: 0.6933\n",
            "Epoch 12/25\n",
            "300/300 [==============================] - 1s 4ms/step - loss: 0.1351 - acc: 0.6970\n",
            "Epoch 13/25\n",
            "300/300 [==============================] - 1s 4ms/step - loss: 0.1351 - acc: 0.6969\n",
            "Epoch 14/25\n",
            "300/300 [==============================] - 1s 4ms/step - loss: 0.1351 - acc: 0.7003\n",
            "Epoch 15/25\n",
            "300/300 [==============================] - 1s 4ms/step - loss: 0.1351 - acc: 0.7017\n",
            "Epoch 16/25\n",
            "300/300 [==============================] - 1s 4ms/step - loss: 0.1351 - acc: 0.7041\n",
            "Epoch 17/25\n",
            "300/300 [==============================] - 1s 4ms/step - loss: 0.1351 - acc: 0.7052\n",
            "Epoch 18/25\n",
            "300/300 [==============================] - 1s 4ms/step - loss: 0.1351 - acc: 0.7053\n",
            "Epoch 19/25\n",
            "300/300 [==============================] - 1s 4ms/step - loss: 0.1351 - acc: 0.7062\n",
            "Epoch 20/25\n",
            "300/300 [==============================] - 1s 4ms/step - loss: 0.1351 - acc: 0.7063\n",
            "Epoch 21/25\n",
            "300/300 [==============================] - 1s 4ms/step - loss: 0.1351 - acc: 0.7082\n",
            "Epoch 22/25\n",
            "300/300 [==============================] - 1s 4ms/step - loss: 0.1351 - acc: 0.7064\n",
            "Epoch 23/25\n",
            "300/300 [==============================] - 1s 4ms/step - loss: 0.1351 - acc: 0.7088\n",
            "Epoch 24/25\n",
            "300/300 [==============================] - 1s 4ms/step - loss: 0.1351 - acc: 0.7110\n",
            "Epoch 25/25\n",
            "300/300 [==============================] - 1s 4ms/step - loss: 0.1351 - acc: 0.7104\n"
          ],
          "name": "stdout"
        }
      ]
    },
    {
      "cell_type": "code",
      "metadata": {
        "id": "JQ5vrb_F8oK2",
        "colab_type": "code",
        "colab": {
          "base_uri": "https://localhost:8080/",
          "height": 625
        },
        "outputId": "c56bda3d-8907-408c-c146-7dc2bda25c07"
      },
      "source": [
        "#Plot testing accuracy vs Epochs\n",
        "plt.plot(history_sa.history['acc']); plt.title('SAN ANTONIO: Training accuracy vs Epochs, alpha = 0.01')\n",
        "plt.ylabel('Accuracy'); plt.xlabel('Epochs')\n",
        "plt.show()\n",
        "\n",
        "#Plot training loss vs Epochs\n",
        "plt.plot(history_sa.history['loss']); plt.title('SAN ANTONIO: Training Loss vs Epochs, alpha = 0.01')\n",
        "plt.ylabel('Loss'); plt.xlabel('Epochs')\n",
        "plt.show()\n",
        "\n",
        "print(f\"Training accuracy 25 epochs(lr 0.001): {history_sa.history['acc'][-1] * 100} \" ); print(f\"Training loss 25 epochs(lr 0.001): {history_sa.history['loss'][-1]} \" )\n",
        "\n",
        "print(history_sa.epoch)"
      ],
      "execution_count": null,
      "outputs": [
        {
          "output_type": "display_data",
          "data": {
            "image/png": "[encoded data removed]",
            "text/plain": [
              "<Figure size 432x288 with 1 Axes>"
            ]
          },
          "metadata": {
            "tags": [],
            "needs_background": "light"
          }
        },
        {
          "output_type": "display_data",
          "data": {
            "image/png": "[encoded data removed]",
            "text/plain": [
              "<Figure size 432x288 with 1 Axes>"
            ]
          },
          "metadata": {
            "tags": [],
            "needs_background": "light"
          }
        },
        {
          "output_type": "stream",
          "text": [
            "Training accuracy 25 epochs(lr 0.001): 71.03814482688904 \n",
            "Training loss 25 epochs(lr 0.001): 0.1350625455379486 \n",
            "[0, 1, 2, 3, 4, 5, 6, 7, 8, 9, 10, 11, 12, 13, 14, 15, 16, 17, 18, 19, 20, 21, 22, 23, 24]\n"
          ],
          "name": "stdout"
        }
      ]
    },
    {
      "cell_type": "markdown",
      "metadata": {
        "id": "ISa_KC07Q2b1",
        "colab_type": "text"
      },
      "source": [
        "**SECOND MODEL FOR SAN ANTONIO - TEMPERATURE (Slightly improves accuracy compared to first model above)**"
      ]
    },
    {
      "cell_type": "code",
      "metadata": {
        "id": "driWqJKlHCfA",
        "colab_type": "code",
        "colab": {
          "base_uri": "https://localhost:8080/",
          "height": 1000
        },
        "outputId": "6687d677-177c-462c-f940-822040e719e8"
      },
      "source": [
        "model2_saTemp = Sequential()\n",
        "\n",
        "model2_saTemp.add(LSTM(units=50,return_sequences=True, input_shape = (x_train_sa.shape[1],x_train_sa.shape[2])))\n",
        "model2_saTemp.add(Dropout(0.2))\n",
        "model2_saTemp.add(LSTM(32, return_sequences=True))\n",
        "model2_saTemp.add(Dropout(0.2))\n",
        "model2_saTemp.add(LSTM(32))\n",
        "model2_saTemp.add(Dense(units = next,activation='softmax'))\n",
        "\n",
        "opt = keras.optimizers.Adam(learning_rate=0.001)\n",
        "model2_saTemp.compile(optimizer=opt, loss='mean_squared_error',metrics=['acc'])\n",
        "\n",
        "history_sa2 = model2_saTemp.fit(x_train_sa, y_train_sa, epochs=50,batch_size=32)"
      ],
      "execution_count": null,
      "outputs": [
        {
          "output_type": "stream",
          "text": [
            "Epoch 1/50\n",
            "937/937 [==============================] - 8s 8ms/step - loss: 0.1351 - acc: 0.6567\n",
            "Epoch 2/50\n",
            "937/937 [==============================] - 7s 8ms/step - loss: 0.1351 - acc: 0.6942\n",
            "Epoch 3/50\n",
            "937/937 [==============================] - 7s 8ms/step - loss: 0.1351 - acc: 0.7012\n",
            "Epoch 4/50\n",
            "937/937 [==============================] - 8s 8ms/step - loss: 0.1351 - acc: 0.7023\n",
            "Epoch 5/50\n",
            "937/937 [==============================] - 8s 8ms/step - loss: 0.1351 - acc: 0.7061\n",
            "Epoch 6/50\n",
            "937/937 [==============================] - 8s 8ms/step - loss: 0.1351 - acc: 0.7059\n",
            "Epoch 7/50\n",
            "937/937 [==============================] - 7s 8ms/step - loss: 0.1351 - acc: 0.7062\n",
            "Epoch 8/50\n",
            "937/937 [==============================] - 7s 8ms/step - loss: 0.1351 - acc: 0.7077\n",
            "Epoch 9/50\n",
            "937/937 [==============================] - 8s 8ms/step - loss: 0.1351 - acc: 0.7094\n",
            "Epoch 10/50\n",
            "937/937 [==============================] - 8s 8ms/step - loss: 0.1351 - acc: 0.7112\n",
            "Epoch 11/50\n",
            "937/937 [==============================] - 8s 8ms/step - loss: 0.1351 - acc: 0.7128\n",
            "Epoch 12/50\n",
            "937/937 [==============================] - 7s 8ms/step - loss: 0.1351 - acc: 0.7138\n",
            "Epoch 13/50\n",
            "937/937 [==============================] - 8s 8ms/step - loss: 0.1351 - acc: 0.7180\n",
            "Epoch 14/50\n",
            "937/937 [==============================] - 8s 8ms/step - loss: 0.1351 - acc: 0.7181\n",
            "Epoch 15/50\n",
            "937/937 [==============================] - 8s 8ms/step - loss: 0.1351 - acc: 0.7174\n",
            "Epoch 16/50\n",
            "937/937 [==============================] - 8s 8ms/step - loss: 0.1351 - acc: 0.7157\n",
            "Epoch 17/50\n",
            "937/937 [==============================] - 8s 8ms/step - loss: 0.1351 - acc: 0.7185\n",
            "Epoch 18/50\n",
            "937/937 [==============================] - 8s 8ms/step - loss: 0.1351 - acc: 0.7181\n",
            "Epoch 19/50\n",
            "937/937 [==============================] - 7s 8ms/step - loss: 0.1350 - acc: 0.7177\n",
            "Epoch 20/50\n",
            "937/937 [==============================] - 7s 8ms/step - loss: 0.1350 - acc: 0.7178\n",
            "Epoch 21/50\n",
            "937/937 [==============================] - 8s 8ms/step - loss: 0.1350 - acc: 0.7185\n",
            "Epoch 22/50\n",
            "937/937 [==============================] - 8s 8ms/step - loss: 0.1350 - acc: 0.7187\n",
            "Epoch 23/50\n",
            "937/937 [==============================] - 8s 8ms/step - loss: 0.1350 - acc: 0.7194\n",
            "Epoch 24/50\n",
            "937/937 [==============================] - 7s 8ms/step - loss: 0.1350 - acc: 0.7200\n",
            "Epoch 25/50\n",
            "937/937 [==============================] - 8s 8ms/step - loss: 0.1350 - acc: 0.7201\n",
            "Epoch 26/50\n",
            "937/937 [==============================] - 8s 8ms/step - loss: 0.1350 - acc: 0.7196\n",
            "Epoch 27/50\n",
            "937/937 [==============================] - 8s 8ms/step - loss: 0.1350 - acc: 0.7203\n",
            "Epoch 28/50\n",
            "937/937 [==============================] - 8s 8ms/step - loss: 0.1350 - acc: 0.7188\n",
            "Epoch 29/50\n",
            "937/937 [==============================] - 8s 8ms/step - loss: 0.1350 - acc: 0.7215\n",
            "Epoch 30/50\n",
            "937/937 [==============================] - 8s 8ms/step - loss: 0.1350 - acc: 0.7213\n",
            "Epoch 31/50\n",
            "937/937 [==============================] - 8s 8ms/step - loss: 0.1350 - acc: 0.7209\n",
            "Epoch 32/50\n",
            "937/937 [==============================] - 8s 8ms/step - loss: 0.1350 - acc: 0.7227\n",
            "Epoch 33/50\n",
            "937/937 [==============================] - 8s 8ms/step - loss: 0.1350 - acc: 0.7209\n",
            "Epoch 34/50\n",
            "937/937 [==============================] - 8s 8ms/step - loss: 0.1350 - acc: 0.7217\n",
            "Epoch 35/50\n",
            "937/937 [==============================] - 8s 8ms/step - loss: 0.1350 - acc: 0.7215\n",
            "Epoch 36/50\n",
            "937/937 [==============================] - 8s 8ms/step - loss: 0.1350 - acc: 0.7224\n",
            "Epoch 37/50\n",
            "937/937 [==============================] - 8s 8ms/step - loss: 0.1350 - acc: 0.7240\n",
            "Epoch 38/50\n",
            "937/937 [==============================] - 8s 8ms/step - loss: 0.1350 - acc: 0.7236\n",
            "Epoch 39/50\n",
            "937/937 [==============================] - 8s 8ms/step - loss: 0.1350 - acc: 0.7249\n",
            "Epoch 40/50\n",
            "937/937 [==============================] - 8s 8ms/step - loss: 0.1350 - acc: 0.7248\n",
            "Epoch 41/50\n",
            "937/937 [==============================] - 8s 8ms/step - loss: 0.1350 - acc: 0.7236\n",
            "Epoch 42/50\n",
            "937/937 [==============================] - 7s 8ms/step - loss: 0.1350 - acc: 0.7237\n",
            "Epoch 43/50\n",
            "937/937 [==============================] - 8s 8ms/step - loss: 0.1350 - acc: 0.7254\n",
            "Epoch 44/50\n",
            "937/937 [==============================] - 8s 8ms/step - loss: 0.1350 - acc: 0.7252\n",
            "Epoch 45/50\n",
            "937/937 [==============================] - 8s 8ms/step - loss: 0.1350 - acc: 0.7253\n",
            "Epoch 46/50\n",
            "937/937 [==============================] - 8s 8ms/step - loss: 0.1350 - acc: 0.7270\n",
            "Epoch 47/50\n",
            "937/937 [==============================] - 8s 8ms/step - loss: 0.1350 - acc: 0.7261\n",
            "Epoch 48/50\n",
            "937/937 [==============================] - 8s 8ms/step - loss: 0.1350 - acc: 0.7263\n",
            "Epoch 49/50\n",
            "937/937 [==============================] - 8s 8ms/step - loss: 0.1350 - acc: 0.7255\n",
            "Epoch 50/50\n",
            "937/937 [==============================] - 8s 8ms/step - loss: 0.1350 - acc: 0.7271\n"
          ],
          "name": "stdout"
        }
      ]
    },
    {
      "cell_type": "code",
      "metadata": {
        "id": "JHaYuMMZT3vZ",
        "colab_type": "code",
        "colab": {
          "base_uri": "https://localhost:8080/",
          "height": 645
        },
        "outputId": "e8acadd1-0eb1-47e4-e70a-901af9d86366"
      },
      "source": [
        "#Plot testing accuracy vs Epochs\n",
        "plt.plot(history_sa2.history['acc']); plt.title('SAN ANTONIO: Training accuracy Vs Epochs, alpha = 0.001'); plt.ylabel('Accuracy'); plt.xlabel('Epochs')\n",
        "plt.show()\n",
        "\n",
        "#Plot training loss vs Epochs\n",
        "plt.plot(history_sa2.history['loss']); plt.title('SAN ANTONIO: Training Loss vs Epochs, alpha = 0.001'); plt.ylabel('Loss'); plt.xlabel('Epochs')\n",
        "plt.show()\n",
        "\n",
        "print(f\"Training accuracy 25 epochs(lr 0.001): {history_sa2.history['acc'][-1] * 100} \" ); print(f\"Training loss 25 epochs(lr 0.001): {history_sa2.history['loss'][-1]} \" )\n",
        "\n",
        "print(history_sa2.epoch)"
      ],
      "execution_count": null,
      "outputs": [
        {
          "output_type": "display_data",
          "data": {
            "image/png": "[encoded data removed]",
            "text/plain": [
              "<Figure size 432x288 with 1 Axes>"
            ]
          },
          "metadata": {
            "tags": [],
            "needs_background": "light"
          }
        },
        {
          "output_type": "display_data",
          "data": {
            "image/png": "[encoded data removed]",
            "text/plain": [
              "<Figure size 432x288 with 1 Axes>"
            ]
          },
          "metadata": {
            "tags": [],
            "needs_background": "light"
          }
        },
        {
          "output_type": "stream",
          "text": [
            "Training accuracy 25 epochs(lr 0.001): 72.70664572715759 \n",
            "Training loss 25 epochs(lr 0.001): 0.13503241539001465 \n",
            "[0, 1, 2, 3, 4, 5, 6, 7, 8, 9, 10, 11, 12, 13, 14, 15, 16, 17, 18, 19, 20, 21, 22, 23, 24, 25, 26, 27, 28, 29, 30, 31, 32, 33, 34, 35, 36, 37, 38, 39, 40, 41, 42, 43, 44, 45, 46, 47, 48, 49]\n"
          ],
          "name": "stdout"
        }
      ]
    },
    {
      "cell_type": "markdown",
      "metadata": {
        "id": "HdpShM8bmVRp",
        "colab_type": "text"
      },
      "source": [
        "**MODELING FOR DALLAS CITY - TEMPERATURE**"
      ]
    },
    {
      "cell_type": "code",
      "metadata": {
        "id": "DXEPfSyrV_kD",
        "colab_type": "code",
        "colab": {}
      },
      "source": [
        "# Modeling for Dallas Temperature\n",
        "training_data = tempD.iloc[:30000]; testing_data = tempD.iloc[30000:]\n",
        "\n",
        "#Normalizing the data\n",
        "scaler_da = MinMaxScaler(feature_range=(0,1)); training_data_normalized = scaler_da.fit_transform(training_data)"
      ],
      "execution_count": null,
      "outputs": []
    },
    {
      "cell_type": "code",
      "metadata": {
        "id": "Cr51L9MQpEf-",
        "colab_type": "code",
        "colab": {}
      },
      "source": [
        "# Split into input and outputs for Dallas temperature\n",
        "x_train_da = []; y_train_da = []\n",
        "next = 4; past= 30\n",
        "\n",
        "for i in range(0,len(training_data_normalized)-past-next+1):\n",
        "    x_train_da.append(training_data_normalized[i : i + past , 0])     \n",
        "    y_train_da.append(training_data_normalized[i + past : i + past + next , 0 ])"
      ],
      "execution_count": null,
      "outputs": []
    },
    {
      "cell_type": "code",
      "metadata": {
        "id": "DCxxRIo4pSsX",
        "colab_type": "code",
        "colab": {}
      },
      "source": [
        "x_train_da , y_train_da = np.array(x_train_da), np.array(y_train_da)\n",
        "\n",
        "#x_train_da = np.reshape(x_train_da, (x_train_da.shape[0] , 1, x_train_da.shape[1]) )\n",
        "x_train_da = np.reshape(x_train_da, (x_train_da.shape[0] , x_train_da.shape[1],1) )"
      ],
      "execution_count": null,
      "outputs": []
    },
    {
      "cell_type": "code",
      "metadata": {
        "id": "HEcNH0uQpfoO",
        "colab_type": "code",
        "colab": {
          "base_uri": "https://localhost:8080/",
          "height": 884
        },
        "outputId": "31c9248e-ba0d-4316-8438-2682d013e891"
      },
      "source": [
        "# Training for 25 Epochs\n",
        "model_daTemp = Sequential()\n",
        "\n",
        "model_daTemp.add(LSTM(units=30, input_shape = (x_train_da.shape[1],1))); model_daTemp.add(Dense(units = next,activation='softmax'))\n",
        "model_daTemp.compile(optimizer='adam', loss='mean_squared_error',metrics=['acc'])\n",
        "\n",
        "history_da = model_daTemp.fit(x_train_da, y_train_da, epochs=25,batch_size=100 )"
      ],
      "execution_count": null,
      "outputs": [
        {
          "output_type": "stream",
          "text": [
            "Epoch 1/25\n",
            "300/300 [==============================] - 1s 4ms/step - loss: 0.1319 - acc: 0.5687\n",
            "Epoch 2/25\n",
            "300/300 [==============================] - 1s 4ms/step - loss: 0.1318 - acc: 0.6700\n",
            "Epoch 3/25\n",
            "300/300 [==============================] - 1s 4ms/step - loss: 0.1318 - acc: 0.6808\n",
            "Epoch 4/25\n",
            "300/300 [==============================] - 1s 4ms/step - loss: 0.1318 - acc: 0.6835\n",
            "Epoch 5/25\n",
            "300/300 [==============================] - 1s 4ms/step - loss: 0.1318 - acc: 0.6863\n",
            "Epoch 6/25\n",
            "300/300 [==============================] - 1s 4ms/step - loss: 0.1318 - acc: 0.6904\n",
            "Epoch 7/25\n",
            "300/300 [==============================] - 1s 4ms/step - loss: 0.1318 - acc: 0.6909\n",
            "Epoch 8/25\n",
            "300/300 [==============================] - 1s 4ms/step - loss: 0.1318 - acc: 0.6931\n",
            "Epoch 9/25\n",
            "300/300 [==============================] - 1s 4ms/step - loss: 0.1318 - acc: 0.6930\n",
            "Epoch 10/25\n",
            "300/300 [==============================] - 1s 4ms/step - loss: 0.1318 - acc: 0.6937\n",
            "Epoch 11/25\n",
            "300/300 [==============================] - 1s 4ms/step - loss: 0.1318 - acc: 0.6938\n",
            "Epoch 12/25\n",
            "300/300 [==============================] - 1s 4ms/step - loss: 0.1318 - acc: 0.6938\n",
            "Epoch 13/25\n",
            "300/300 [==============================] - 1s 4ms/step - loss: 0.1318 - acc: 0.6944\n",
            "Epoch 14/25\n",
            "300/300 [==============================] - 1s 4ms/step - loss: 0.1318 - acc: 0.6968\n",
            "Epoch 15/25\n",
            "300/300 [==============================] - 1s 4ms/step - loss: 0.1318 - acc: 0.6970\n",
            "Epoch 16/25\n",
            "300/300 [==============================] - 1s 4ms/step - loss: 0.1318 - acc: 0.6982\n",
            "Epoch 17/25\n",
            "300/300 [==============================] - 1s 4ms/step - loss: 0.1318 - acc: 0.7000\n",
            "Epoch 18/25\n",
            "300/300 [==============================] - 1s 4ms/step - loss: 0.1317 - acc: 0.7003\n",
            "Epoch 19/25\n",
            "300/300 [==============================] - 1s 4ms/step - loss: 0.1317 - acc: 0.7072\n",
            "Epoch 20/25\n",
            "300/300 [==============================] - 1s 4ms/step - loss: 0.1317 - acc: 0.7043\n",
            "Epoch 21/25\n",
            "300/300 [==============================] - 1s 4ms/step - loss: 0.1317 - acc: 0.7069\n",
            "Epoch 22/25\n",
            "300/300 [==============================] - 1s 4ms/step - loss: 0.1317 - acc: 0.7057\n",
            "Epoch 23/25\n",
            "300/300 [==============================] - 1s 4ms/step - loss: 0.1317 - acc: 0.7072\n",
            "Epoch 24/25\n",
            "300/300 [==============================] - 1s 4ms/step - loss: 0.1317 - acc: 0.7068\n",
            "Epoch 25/25\n",
            "300/300 [==============================] - 1s 4ms/step - loss: 0.1317 - acc: 0.7090\n"
          ],
          "name": "stdout"
        }
      ]
    },
    {
      "cell_type": "code",
      "metadata": {
        "id": "UaL2FZdGp3FY",
        "colab_type": "code",
        "colab": {
          "base_uri": "https://localhost:8080/",
          "height": 625
        },
        "outputId": "513f2a13-f4de-494d-949f-cdd623a90d72"
      },
      "source": [
        "#Plot testing accuracy vs Epochs\n",
        "plt.plot(history_da.history['acc']); plt.title('DALLAS: Training accuracy vs Epochs, alpha = 0.01'); plt.ylabel('Accuracy'); plt.xlabel('Epochs')\n",
        "plt.show()\n",
        "\n",
        "#Plot training loss vs Epochs\n",
        "plt.plot(history_da.history['loss']); plt.title('DALLAS: Training Loss vs Epochs, alpha = 0.01'); plt.ylabel('Loss'); plt.xlabel('Epochs')\n",
        "plt.show()\n",
        "\n",
        "print(f\"Training accuracy 25 epochs(lr 0.01): {history_da.history['acc'][-1] * 100} \"); print(f\"Training loss 25 epochs(lr 0.01): {history_da.history['loss'][-1]} \" )\n",
        "\n",
        "print(history_da.epoch)"
      ],
      "execution_count": null,
      "outputs": [
        {
          "output_type": "display_data",
          "data": {
            "image/png": "[encoded data removed]",
            "text/plain": [
              "<Figure size 432x288 with 1 Axes>"
            ]
          },
          "metadata": {
            "tags": [],
            "needs_background": "light"
          }
        },
        {
          "output_type": "display_data",
          "data": {
            "image/png": "[encoded data removed]",
            "text/plain": [
              "<Figure size 432x288 with 1 Axes>"
            ]
          },
          "metadata": {
            "tags": [],
            "needs_background": "light"
          }
        },
        {
          "output_type": "stream",
          "text": [
            "Training accuracy 25 epochs(lr 0.01): 70.90132236480713 \n",
            "Training loss 25 epochs(lr 0.01): 0.13174308836460114 \n",
            "[0, 1, 2, 3, 4, 5, 6, 7, 8, 9, 10, 11, 12, 13, 14, 15, 16, 17, 18, 19, 20, 21, 22, 23, 24]\n"
          ],
          "name": "stdout"
        }
      ]
    },
    {
      "cell_type": "markdown",
      "metadata": {
        "id": "Yubt4_XIVMtE",
        "colab_type": "text"
      },
      "source": [
        "**SECOND MODEL FOR DALLAS - TEMPERATURE (With slightly improved accuracy)**"
      ]
    },
    {
      "cell_type": "code",
      "metadata": {
        "id": "a2ioWweXVHtT",
        "colab_type": "code",
        "colab": {
          "base_uri": "https://localhost:8080/",
          "height": 1000
        },
        "outputId": "74dcf52c-13ef-48c3-b87f-0d48efe62221"
      },
      "source": [
        "model2_daTemp = Sequential()\n",
        "\n",
        "model2_daTemp.add(LSTM(units=50,return_sequences=True, input_shape = (x_train_da.shape[1],1)))\n",
        "model2_daTemp.add(Dropout(0.2))\n",
        "model2_daTemp.add(LSTM(32, return_sequences=True))\n",
        "model2_daTemp.add(Dropout(0.2))\n",
        "model2_daTemp.add(LSTM(32))\n",
        "model2_daTemp.add(Dense(units = next,activation='softmax'))\n",
        "\n",
        "opt = keras.optimizers.Adam(learning_rate=0.001)\n",
        "model2_daTemp.compile(optimizer=opt, loss='mean_squared_error',metrics=['acc'])\n",
        "\n",
        "history_da2 = model2_daTemp.fit(x_train_da, y_train_da, epochs=50,batch_size=32 )"
      ],
      "execution_count": null,
      "outputs": [
        {
          "output_type": "stream",
          "text": [
            "Epoch 1/50\n",
            "937/937 [==============================] - 8s 8ms/step - loss: 0.1318 - acc: 0.6448\n",
            "Epoch 2/50\n",
            "937/937 [==============================] - 8s 8ms/step - loss: 0.1318 - acc: 0.6935\n",
            "Epoch 3/50\n",
            "937/937 [==============================] - 8s 8ms/step - loss: 0.1318 - acc: 0.7001\n",
            "Epoch 4/50\n",
            "937/937 [==============================] - 8s 8ms/step - loss: 0.1318 - acc: 0.7033\n",
            "Epoch 5/50\n",
            "937/937 [==============================] - 8s 8ms/step - loss: 0.1318 - acc: 0.7055\n",
            "Epoch 6/50\n",
            "937/937 [==============================] - 8s 8ms/step - loss: 0.1317 - acc: 0.7058\n",
            "Epoch 7/50\n",
            "937/937 [==============================] - 8s 8ms/step - loss: 0.1317 - acc: 0.7084\n",
            "Epoch 8/50\n",
            "937/937 [==============================] - 8s 8ms/step - loss: 0.1317 - acc: 0.7056\n",
            "Epoch 9/50\n",
            "937/937 [==============================] - 8s 8ms/step - loss: 0.1317 - acc: 0.7080\n",
            "Epoch 10/50\n",
            "937/937 [==============================] - 8s 8ms/step - loss: 0.1317 - acc: 0.7076\n",
            "Epoch 11/50\n",
            "937/937 [==============================] - 8s 8ms/step - loss: 0.1317 - acc: 0.7092\n",
            "Epoch 12/50\n",
            "937/937 [==============================] - 8s 8ms/step - loss: 0.1317 - acc: 0.7093\n",
            "Epoch 13/50\n",
            "937/937 [==============================] - 8s 8ms/step - loss: 0.1317 - acc: 0.7129\n",
            "Epoch 14/50\n",
            "937/937 [==============================] - 8s 8ms/step - loss: 0.1317 - acc: 0.7100\n",
            "Epoch 15/50\n",
            "937/937 [==============================] - 8s 9ms/step - loss: 0.1317 - acc: 0.7162\n",
            "Epoch 16/50\n",
            "937/937 [==============================] - 8s 8ms/step - loss: 0.1317 - acc: 0.7131\n",
            "Epoch 17/50\n",
            "937/937 [==============================] - 8s 8ms/step - loss: 0.1317 - acc: 0.7148\n",
            "Epoch 18/50\n",
            "937/937 [==============================] - 8s 8ms/step - loss: 0.1317 - acc: 0.7155\n",
            "Epoch 19/50\n",
            "937/937 [==============================] - 8s 8ms/step - loss: 0.1317 - acc: 0.7175\n",
            "Epoch 20/50\n",
            "937/937 [==============================] - 8s 8ms/step - loss: 0.1317 - acc: 0.7183\n",
            "Epoch 21/50\n",
            "937/937 [==============================] - 8s 8ms/step - loss: 0.1317 - acc: 0.7170\n",
            "Epoch 22/50\n",
            "937/937 [==============================] - 8s 8ms/step - loss: 0.1317 - acc: 0.7172\n",
            "Epoch 23/50\n",
            "937/937 [==============================] - 8s 8ms/step - loss: 0.1317 - acc: 0.7185\n",
            "Epoch 24/50\n",
            "937/937 [==============================] - 8s 8ms/step - loss: 0.1317 - acc: 0.7177\n",
            "Epoch 25/50\n",
            "937/937 [==============================] - 8s 8ms/step - loss: 0.1317 - acc: 0.7192\n",
            "Epoch 26/50\n",
            "937/937 [==============================] - 8s 8ms/step - loss: 0.1317 - acc: 0.7198\n",
            "Epoch 27/50\n",
            "937/937 [==============================] - 8s 8ms/step - loss: 0.1317 - acc: 0.7192\n",
            "Epoch 28/50\n",
            "937/937 [==============================] - 8s 8ms/step - loss: 0.1317 - acc: 0.7191\n",
            "Epoch 29/50\n",
            "937/937 [==============================] - 8s 8ms/step - loss: 0.1317 - acc: 0.7188\n",
            "Epoch 30/50\n",
            "937/937 [==============================] - 8s 8ms/step - loss: 0.1317 - acc: 0.7205\n",
            "Epoch 31/50\n",
            "937/937 [==============================] - 8s 8ms/step - loss: 0.1317 - acc: 0.7204\n",
            "Epoch 32/50\n",
            "937/937 [==============================] - 8s 8ms/step - loss: 0.1317 - acc: 0.7182\n",
            "Epoch 33/50\n",
            "937/937 [==============================] - 8s 8ms/step - loss: 0.1317 - acc: 0.7237\n",
            "Epoch 34/50\n",
            "937/937 [==============================] - 8s 8ms/step - loss: 0.1317 - acc: 0.7222\n",
            "Epoch 35/50\n",
            "937/937 [==============================] - 8s 8ms/step - loss: 0.1317 - acc: 0.7249\n",
            "Epoch 36/50\n",
            "937/937 [==============================] - 8s 8ms/step - loss: 0.1317 - acc: 0.7237\n",
            "Epoch 37/50\n",
            "937/937 [==============================] - 8s 8ms/step - loss: 0.1317 - acc: 0.7201\n",
            "Epoch 38/50\n",
            "937/937 [==============================] - 8s 8ms/step - loss: 0.1317 - acc: 0.7212\n",
            "Epoch 39/50\n",
            "937/937 [==============================] - 8s 8ms/step - loss: 0.1317 - acc: 0.7234\n",
            "Epoch 40/50\n",
            "937/937 [==============================] - 8s 8ms/step - loss: 0.1317 - acc: 0.7221\n",
            "Epoch 41/50\n",
            "937/937 [==============================] - 8s 8ms/step - loss: 0.1317 - acc: 0.7226\n",
            "Epoch 42/50\n",
            "937/937 [==============================] - 8s 8ms/step - loss: 0.1317 - acc: 0.7245\n",
            "Epoch 43/50\n",
            "937/937 [==============================] - 8s 8ms/step - loss: 0.1317 - acc: 0.7263\n",
            "Epoch 44/50\n",
            "937/937 [==============================] - 8s 8ms/step - loss: 0.1317 - acc: 0.7229\n",
            "Epoch 45/50\n",
            "937/937 [==============================] - 8s 8ms/step - loss: 0.1317 - acc: 0.7238\n",
            "Epoch 46/50\n",
            "937/937 [==============================] - 8s 8ms/step - loss: 0.1317 - acc: 0.7236\n",
            "Epoch 47/50\n",
            "937/937 [==============================] - 8s 8ms/step - loss: 0.1317 - acc: 0.7260\n",
            "Epoch 48/50\n",
            "937/937 [==============================] - 8s 8ms/step - loss: 0.1317 - acc: 0.7253\n",
            "Epoch 49/50\n",
            "937/937 [==============================] - 8s 8ms/step - loss: 0.1317 - acc: 0.7265\n",
            "Epoch 50/50\n",
            "937/937 [==============================] - 8s 8ms/step - loss: 0.1317 - acc: 0.7268\n"
          ],
          "name": "stdout"
        }
      ]
    },
    {
      "cell_type": "code",
      "metadata": {
        "id": "o41VrOqgXmq7",
        "colab_type": "code",
        "colab": {
          "base_uri": "https://localhost:8080/",
          "height": 645
        },
        "outputId": "31a53e53-41bf-49dc-884a-07cda9cd5372"
      },
      "source": [
        "#Plot testing accuracy vs Epochs\n",
        "plt.plot(history_da2.history['acc']); plt.title('DALLAS: Training accuracy vs Epochs, alpha = 0.001'); plt.ylabel('Accuracy'); plt.xlabel('Epochs')\n",
        "plt.show()\n",
        "\n",
        "#Plot training loss vs Epochs\n",
        "plt.plot(history_da2.history['loss']); plt.title('DALLAS: Training Loss vs Epochs, alpha = 0.001'); plt.ylabel('Loss'); plt.xlabel('Epochs')\n",
        "plt.show()\n",
        "\n",
        "print(f\"Training accuracy 25 epochs(lr 0.001): {history_da2.history['acc'][-1] * 100} \"); print(f\"Training loss 25 epochs(lr 0.001): {history_da2.history['loss'][-1]} \" )\n",
        "\n",
        "print(history_da2.epoch)"
      ],
      "execution_count": null,
      "outputs": [
        {
          "output_type": "display_data",
          "data": {
            "image/png": "[encoded data removed]",
            "text/plain": [
              "<Figure size 432x288 with 1 Axes>"
            ]
          },
          "metadata": {
            "tags": [],
            "needs_background": "light"
          }
        },
        {
          "output_type": "display_data",
          "data": {
            "image/png": "[encoded data removed]",
            "text/plain": [
              "<Figure size 432x288 with 1 Axes>"
            ]
          },
          "metadata": {
            "tags": [],
            "needs_background": "light"
          }
        },
        {
          "output_type": "stream",
          "text": [
            "Training accuracy 25 epochs(lr 0.001): 72.6799488067627 \n",
            "Training loss 25 epochs(lr 0.001): 0.13169562816619873 \n",
            "[0, 1, 2, 3, 4, 5, 6, 7, 8, 9, 10, 11, 12, 13, 14, 15, 16, 17, 18, 19, 20, 21, 22, 23, 24, 25, 26, 27, 28, 29, 30, 31, 32, 33, 34, 35, 36, 37, 38, 39, 40, 41, 42, 43, 44, 45, 46, 47, 48, 49]\n"
          ],
          "name": "stdout"
        }
      ]
    },
    {
      "cell_type": "markdown",
      "metadata": {
        "id": "VJotERPMrYwO",
        "colab_type": "text"
      },
      "source": [
        "**MODELING FOR HOUSTON CITY - TEMPERATURE**"
      ]
    },
    {
      "cell_type": "code",
      "metadata": {
        "id": "urTDIXa-qSU_",
        "colab_type": "code",
        "colab": {}
      },
      "source": [
        "# Modeling for Houston Temperature\n",
        "training_data = tempH.iloc[:30000]; testing_data = tempH.iloc[30000:]\n",
        "\n",
        "#Normalizing the data\n",
        "scaler_hou = MinMaxScaler(feature_range=(0,1)); training_data_normalized = scaler_hou.fit_transform(training_data)"
      ],
      "execution_count": null,
      "outputs": []
    },
    {
      "cell_type": "code",
      "metadata": {
        "id": "fZpTj8zQruQK",
        "colab_type": "code",
        "colab": {}
      },
      "source": [
        "# Split into input and outputs for Houston temperature\n",
        "x_train_hou = []; y_train_hou = []\n",
        "next = 4; past= 30\n",
        "\n",
        "for i in range(0,len(training_data_normalized)-past-next+1):\n",
        "    x_train_hou.append(training_data_normalized[i : i + past , 0])     \n",
        "    y_train_hou.append(training_data_normalized[i + past : i + past + next , 0 ])"
      ],
      "execution_count": null,
      "outputs": []
    },
    {
      "cell_type": "code",
      "metadata": {
        "id": "Gb8lF1_yr-xO",
        "colab_type": "code",
        "colab": {}
      },
      "source": [
        "x_train_hou , y_train_hou = np.array(x_train_hou), np.array(y_train_hou)\n",
        "\n",
        "#x_train_hou = np.reshape(x_train_hou, (x_train_hou.shape[0] , 1, x_train_hou.shape[1]) )\n",
        "x_train_hou = np.reshape(x_train_hou, (x_train_hou.shape[0] , x_train_hou.shape[1],1) )"
      ],
      "execution_count": null,
      "outputs": []
    },
    {
      "cell_type": "code",
      "metadata": {
        "id": "JCPxnHbrsnI8",
        "colab_type": "code",
        "colab": {
          "base_uri": "https://localhost:8080/",
          "height": 884
        },
        "outputId": "c541adb1-2af6-4ab1-86a7-b312c6c00f41"
      },
      "source": [
        "# Training for 25 Epochs\n",
        "model_houTemp = Sequential()\n",
        "\n",
        "model_houTemp.add(LSTM(units=30, input_shape = (x_train_hou.shape[1],1))); model_houTemp.add(Dense(units = next,activation='softmax'))\n",
        "model_houTemp.compile(optimizer='adam', loss='mean_squared_error',metrics=['acc'])\n",
        "\n",
        "history_hou = model_houTemp.fit(x_train_hou, y_train_hou, epochs=25,batch_size=100 )"
      ],
      "execution_count": null,
      "outputs": [
        {
          "output_type": "stream",
          "text": [
            "Epoch 1/25\n",
            "300/300 [==============================] - 1s 4ms/step - loss: 0.1252 - acc: 0.5674\n",
            "Epoch 2/25\n",
            "300/300 [==============================] - 1s 4ms/step - loss: 0.1251 - acc: 0.6554\n",
            "Epoch 3/25\n",
            "300/300 [==============================] - 1s 4ms/step - loss: 0.1251 - acc: 0.6640\n",
            "Epoch 4/25\n",
            "300/300 [==============================] - 1s 4ms/step - loss: 0.1251 - acc: 0.6675\n",
            "Epoch 5/25\n",
            "300/300 [==============================] - 1s 4ms/step - loss: 0.1251 - acc: 0.6733\n",
            "Epoch 6/25\n",
            "300/300 [==============================] - 1s 4ms/step - loss: 0.1251 - acc: 0.6753\n",
            "Epoch 7/25\n",
            "300/300 [==============================] - 1s 4ms/step - loss: 0.1251 - acc: 0.6792\n",
            "Epoch 8/25\n",
            "300/300 [==============================] - 1s 4ms/step - loss: 0.1251 - acc: 0.6826\n",
            "Epoch 9/25\n",
            "300/300 [==============================] - 1s 4ms/step - loss: 0.1251 - acc: 0.6831\n",
            "Epoch 10/25\n",
            "300/300 [==============================] - 1s 4ms/step - loss: 0.1251 - acc: 0.6818\n",
            "Epoch 11/25\n",
            "300/300 [==============================] - 1s 4ms/step - loss: 0.1251 - acc: 0.6858\n",
            "Epoch 12/25\n",
            "300/300 [==============================] - 1s 4ms/step - loss: 0.1251 - acc: 0.6876\n",
            "Epoch 13/25\n",
            "300/300 [==============================] - 1s 4ms/step - loss: 0.1251 - acc: 0.6865\n",
            "Epoch 14/25\n",
            "300/300 [==============================] - 1s 4ms/step - loss: 0.1251 - acc: 0.6882\n",
            "Epoch 15/25\n",
            "300/300 [==============================] - 1s 4ms/step - loss: 0.1251 - acc: 0.6880\n",
            "Epoch 16/25\n",
            "300/300 [==============================] - 1s 4ms/step - loss: 0.1251 - acc: 0.6862\n",
            "Epoch 17/25\n",
            "300/300 [==============================] - 1s 4ms/step - loss: 0.1250 - acc: 0.6907\n",
            "Epoch 18/25\n",
            "300/300 [==============================] - 1s 4ms/step - loss: 0.1250 - acc: 0.6888\n",
            "Epoch 19/25\n",
            "300/300 [==============================] - 1s 4ms/step - loss: 0.1250 - acc: 0.6901\n",
            "Epoch 20/25\n",
            "300/300 [==============================] - 1s 4ms/step - loss: 0.1250 - acc: 0.6912\n",
            "Epoch 21/25\n",
            "300/300 [==============================] - 1s 4ms/step - loss: 0.1250 - acc: 0.6921\n",
            "Epoch 22/25\n",
            "300/300 [==============================] - 1s 4ms/step - loss: 0.1250 - acc: 0.6937\n",
            "Epoch 23/25\n",
            "300/300 [==============================] - 1s 4ms/step - loss: 0.1250 - acc: 0.6917\n",
            "Epoch 24/25\n",
            "300/300 [==============================] - 1s 4ms/step - loss: 0.1250 - acc: 0.6916\n",
            "Epoch 25/25\n",
            "300/300 [==============================] - 1s 4ms/step - loss: 0.1250 - acc: 0.6926\n"
          ],
          "name": "stdout"
        }
      ]
    },
    {
      "cell_type": "code",
      "metadata": {
        "id": "5h4RQxcls4_4",
        "colab_type": "code",
        "colab": {
          "base_uri": "https://localhost:8080/",
          "height": 625
        },
        "outputId": "7ec4bda0-9105-47e7-accf-468978087a4a"
      },
      "source": [
        "#Plot testing accuracy vs Epochs\n",
        "plt.plot(history_hou.history['acc']); plt.title('HOUSTON: Training accuracy Vs Epochs, alpha = 0.01'); plt.ylabel('Accuracy'); plt.xlabel('Epochs')\n",
        "plt.show()\n",
        "\n",
        "#Plot training loss vs Epochs\n",
        "plt.plot(history_hou.history['loss']); plt.title('HOUSTON: Training Loss vs Epochs, alpha = 0.01'); plt.ylabel('Loss'); plt.xlabel('Epochs')\n",
        "plt.show()\n",
        "\n",
        "print(f\"Training accuracy 25 epochs(lr 0.001): {history_hou.history['acc'][-1] * 100} \"); print(f\"Training loss 25 epochs(lr 0.001): {history_hou.history['loss'][-1]} \" )\n",
        "\n",
        "print(history_hou.epoch)"
      ],
      "execution_count": null,
      "outputs": [
        {
          "output_type": "display_data",
          "data": {
            "image/png": "[encoded data removed]",
            "text/plain": [
              "<Figure size 432x288 with 1 Axes>"
            ]
          },
          "metadata": {
            "tags": [],
            "needs_background": "light"
          }
        },
        {
          "output_type": "display_data",
          "data": {
            "image/png": "[encoded data removed]",
            "text/plain": [
              "<Figure size 432x288 with 1 Axes>"
            ]
          },
          "metadata": {
            "tags": [],
            "needs_background": "light"
          }
        },
        {
          "output_type": "stream",
          "text": [
            "Training accuracy 25 epochs(lr 0.001): 69.25618052482605 \n",
            "Training loss 25 epochs(lr 0.001): 0.1250416338443756 \n",
            "[0, 1, 2, 3, 4, 5, 6, 7, 8, 9, 10, 11, 12, 13, 14, 15, 16, 17, 18, 19, 20, 21, 22, 23, 24]\n"
          ],
          "name": "stdout"
        }
      ]
    },
    {
      "cell_type": "markdown",
      "metadata": {
        "id": "1MKZQPdrmvgO",
        "colab_type": "text"
      },
      "source": [
        "**Second model for Houston Temperature**"
      ]
    },
    {
      "cell_type": "code",
      "metadata": {
        "id": "MaY3tEC5myma",
        "colab_type": "code",
        "colab": {
          "base_uri": "https://localhost:8080/",
          "height": 1000
        },
        "outputId": "3065e05d-5432-47ef-9117-45d936e86a81"
      },
      "source": [
        "model2_houTemp = Sequential()\n",
        "\n",
        "model2_houTemp.add(LSTM(units=50,return_sequences=True, input_shape = (x_train_hou.shape[1],1)))\n",
        "model2_houTemp.add(Dropout(0.2))\n",
        "model2_houTemp.add(LSTM(32, return_sequences=True))\n",
        "model2_houTemp.add(Dropout(0.2))\n",
        "model2_houTemp.add(LSTM(32))\n",
        "model2_houTemp.add(Dense(units = next,activation='softmax'))\n",
        "\n",
        "opt = keras.optimizers.Adam(learning_rate=0.001)\n",
        "model2_houTemp.compile(optimizer=opt, loss='mean_squared_error',metrics=['acc'])\n",
        "\n",
        "history2_hou = model2_houTemp.fit(x_train_hou, y_train_hou, epochs=50,batch_size=32 )"
      ],
      "execution_count": null,
      "outputs": [
        {
          "output_type": "stream",
          "text": [
            "Epoch 1/50\n",
            "937/937 [==============================] - 7s 8ms/step - loss: 0.1251 - acc: 0.6301\n",
            "Epoch 2/50\n",
            "937/937 [==============================] - 7s 8ms/step - loss: 0.1251 - acc: 0.6761\n",
            "Epoch 3/50\n",
            "937/937 [==============================] - 7s 8ms/step - loss: 0.1251 - acc: 0.6823\n",
            "Epoch 4/50\n",
            "937/937 [==============================] - 8s 8ms/step - loss: 0.1251 - acc: 0.6881\n",
            "Epoch 5/50\n",
            "937/937 [==============================] - 8s 8ms/step - loss: 0.1251 - acc: 0.6884\n",
            "Epoch 6/50\n",
            "937/937 [==============================] - 7s 8ms/step - loss: 0.1251 - acc: 0.6877\n",
            "Epoch 7/50\n",
            "937/937 [==============================] - 7s 8ms/step - loss: 0.1251 - acc: 0.6895\n",
            "Epoch 8/50\n",
            "937/937 [==============================] - 8s 8ms/step - loss: 0.1250 - acc: 0.6897\n",
            "Epoch 9/50\n",
            "937/937 [==============================] - 8s 8ms/step - loss: 0.1250 - acc: 0.6908\n",
            "Epoch 10/50\n",
            "937/937 [==============================] - 7s 8ms/step - loss: 0.1250 - acc: 0.6914\n",
            "Epoch 11/50\n",
            "937/937 [==============================] - 7s 8ms/step - loss: 0.1250 - acc: 0.6926\n",
            "Epoch 12/50\n",
            "937/937 [==============================] - 8s 8ms/step - loss: 0.1250 - acc: 0.6943\n",
            "Epoch 13/50\n",
            "937/937 [==============================] - 8s 8ms/step - loss: 0.1250 - acc: 0.6940\n",
            "Epoch 14/50\n",
            "937/937 [==============================] - 7s 8ms/step - loss: 0.1250 - acc: 0.6954\n",
            "Epoch 15/50\n",
            "937/937 [==============================] - 7s 8ms/step - loss: 0.1250 - acc: 0.6960\n",
            "Epoch 16/50\n",
            "937/937 [==============================] - 8s 8ms/step - loss: 0.1250 - acc: 0.6986\n",
            "Epoch 17/50\n",
            "937/937 [==============================] - 7s 8ms/step - loss: 0.1250 - acc: 0.6974\n",
            "Epoch 18/50\n",
            "937/937 [==============================] - 7s 8ms/step - loss: 0.1250 - acc: 0.6976\n",
            "Epoch 19/50\n",
            "937/937 [==============================] - 7s 8ms/step - loss: 0.1250 - acc: 0.6974\n",
            "Epoch 20/50\n",
            "937/937 [==============================] - 8s 8ms/step - loss: 0.1250 - acc: 0.7011\n",
            "Epoch 21/50\n",
            "937/937 [==============================] - 8s 8ms/step - loss: 0.1250 - acc: 0.7001\n",
            "Epoch 22/50\n",
            "937/937 [==============================] - 7s 8ms/step - loss: 0.1250 - acc: 0.7006\n",
            "Epoch 23/50\n",
            "937/937 [==============================] - 7s 8ms/step - loss: 0.1250 - acc: 0.6999\n",
            "Epoch 24/50\n",
            "937/937 [==============================] - 8s 8ms/step - loss: 0.1250 - acc: 0.7011\n",
            "Epoch 25/50\n",
            "937/937 [==============================] - 7s 8ms/step - loss: 0.1250 - acc: 0.7008\n",
            "Epoch 26/50\n",
            "937/937 [==============================] - 7s 8ms/step - loss: 0.1250 - acc: 0.7028\n",
            "Epoch 27/50\n",
            "937/937 [==============================] - 8s 8ms/step - loss: 0.1250 - acc: 0.7001\n",
            "Epoch 28/50\n",
            "937/937 [==============================] - 8s 8ms/step - loss: 0.1250 - acc: 0.7028\n",
            "Epoch 29/50\n",
            "937/937 [==============================] - 8s 8ms/step - loss: 0.1250 - acc: 0.7031\n",
            "Epoch 30/50\n",
            "937/937 [==============================] - 7s 8ms/step - loss: 0.1250 - acc: 0.7019\n",
            "Epoch 31/50\n",
            "937/937 [==============================] - 8s 8ms/step - loss: 0.1250 - acc: 0.7022\n",
            "Epoch 32/50\n",
            "937/937 [==============================] - 8s 9ms/step - loss: 0.1250 - acc: 0.7023\n",
            "Epoch 33/50\n",
            "937/937 [==============================] - 8s 8ms/step - loss: 0.1250 - acc: 0.7043\n",
            "Epoch 34/50\n",
            "937/937 [==============================] - 7s 8ms/step - loss: 0.1250 - acc: 0.7036\n",
            "Epoch 35/50\n",
            "937/937 [==============================] - 8s 8ms/step - loss: 0.1250 - acc: 0.7041\n",
            "Epoch 36/50\n",
            "937/937 [==============================] - 8s 8ms/step - loss: 0.1250 - acc: 0.7029\n",
            "Epoch 37/50\n",
            "937/937 [==============================] - 8s 8ms/step - loss: 0.1250 - acc: 0.7050\n",
            "Epoch 38/50\n",
            "937/937 [==============================] - 8s 8ms/step - loss: 0.1250 - acc: 0.7051\n",
            "Epoch 39/50\n",
            "937/937 [==============================] - 7s 8ms/step - loss: 0.1250 - acc: 0.7055\n",
            "Epoch 40/50\n",
            "937/937 [==============================] - 8s 8ms/step - loss: 0.1250 - acc: 0.7072\n",
            "Epoch 41/50\n",
            "937/937 [==============================] - 8s 8ms/step - loss: 0.1250 - acc: 0.7067\n",
            "Epoch 42/50\n",
            "937/937 [==============================] - 7s 8ms/step - loss: 0.1250 - acc: 0.7060\n",
            "Epoch 43/50\n",
            "937/937 [==============================] - 8s 8ms/step - loss: 0.1250 - acc: 0.7114\n",
            "Epoch 44/50\n",
            "937/937 [==============================] - 8s 8ms/step - loss: 0.1250 - acc: 0.7077\n",
            "Epoch 45/50\n",
            "937/937 [==============================] - 8s 8ms/step - loss: 0.1250 - acc: 0.7088\n",
            "Epoch 46/50\n",
            "937/937 [==============================] - 8s 8ms/step - loss: 0.1250 - acc: 0.7115\n",
            "Epoch 47/50\n",
            "937/937 [==============================] - 8s 8ms/step - loss: 0.1250 - acc: 0.7106\n",
            "Epoch 48/50\n",
            "937/937 [==============================] - 8s 8ms/step - loss: 0.1250 - acc: 0.7115\n",
            "Epoch 49/50\n",
            "937/937 [==============================] - 8s 8ms/step - loss: 0.1250 - acc: 0.7113\n",
            "Epoch 50/50\n",
            "937/937 [==============================] - 8s 8ms/step - loss: 0.1250 - acc: 0.7123\n"
          ],
          "name": "stdout"
        }
      ]
    },
    {
      "cell_type": "code",
      "metadata": {
        "id": "t6cymKlhp0kP",
        "colab_type": "code",
        "colab": {
          "base_uri": "https://localhost:8080/",
          "height": 645
        },
        "outputId": "2bcba8e4-0df4-4ddf-8d86-1ebdbd4edb0a"
      },
      "source": [
        "#Plot testing accuracy vs Epochs\n",
        "plt.plot(history2_hou.history['acc']); plt.title('HOUSTON: Training accuracy vs Epochs, alpha = 0.001'); plt.ylabel('Accuracy'); plt.xlabel('Epochs')\n",
        "plt.show()\n",
        "\n",
        "#Plot training loss vs Epochs\n",
        "plt.plot(history2_hou.history['loss']); plt.title('HOUSTON: Training Loss vs Epochs, alpha = 0.001'); plt.ylabel('Loss'); plt.xlabel('Epochs')\n",
        "plt.show()\n",
        "\n",
        "print(f\"Training accuracy 25 epochs(lr 0.001): {history2_hou.history['acc'][-1] * 100} \"); print(f\"Training loss 25 epochs(lr 0.001): {history2_hou.history['loss'][-1]} \" )\n",
        "\n",
        "print(history2_hou.epoch)"
      ],
      "execution_count": null,
      "outputs": [
        {
          "output_type": "display_data",
          "data": {
            "image/png": "[encoded data removed]",
            "text/plain": [
              "<Figure size 432x288 with 1 Axes>"
            ]
          },
          "metadata": {
            "tags": [],
            "needs_background": "light"
          }
        },
        {
          "output_type": "display_data",
          "data": {
            "image/png": "[encoded data removed]",
            "text/plain": [
              "<Figure size 432x288 with 1 Axes>"
            ]
          },
          "metadata": {
            "tags": [],
            "needs_background": "light"
          }
        },
        {
          "output_type": "stream",
          "text": [
            "Training accuracy 25 epochs(lr 0.001): 71.22501134872437 \n",
            "Training loss 25 epochs(lr 0.001): 0.12499528378248215 \n",
            "[0, 1, 2, 3, 4, 5, 6, 7, 8, 9, 10, 11, 12, 13, 14, 15, 16, 17, 18, 19, 20, 21, 22, 23, 24, 25, 26, 27, 28, 29, 30, 31, 32, 33, 34, 35, 36, 37, 38, 39, 40, 41, 42, 43, 44, 45, 46, 47, 48, 49]\n"
          ],
          "name": "stdout"
        }
      ]
    },
    {
      "cell_type": "markdown",
      "metadata": {
        "id": "WjvdXaSAtK7c",
        "colab_type": "text"
      },
      "source": [
        "# ***HUMIDITY***\n",
        "\n",
        "---\n",
        "\n"
      ]
    },
    {
      "cell_type": "code",
      "metadata": {
        "id": "1ytQELWdtQKD",
        "colab_type": "code",
        "colab": {
          "resources": {
            "http://localhost:8080/nbextensions/google.colab/files.js": {
              "data": "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",
              "ok": true,
              "headers": [
                [
                  "content-type",
                  "application/javascript"
                ]
              ],
              "status": 200,
              "status_text": ""
            }
          },
          "base_uri": "https://localhost:8080/",
          "height": 73
        },
        "outputId": "f9f16702-2eab-483c-fe6c-f460af855e3d"
      },
      "source": [
        "from google.colab import files\n",
        "data_to_load = files.upload()"
      ],
      "execution_count": null,
      "outputs": [
        {
          "output_type": "display_data",
          "data": {
            "text/html": [
              "\n",
              "     <input type=\"file\" id=\"files-67a57d57-9df3-4fba-ba54-ddb5bf477eb0\" name=\"files[]\" multiple disabled\n",
              "        style=\"border:none\" />\n",
              "     <output id=\"result-67a57d57-9df3-4fba-ba54-ddb5bf477eb0\">\n",
              "      Upload widget is only available when the cell has been executed in the\n",
              "      current browser session. Please rerun this cell to enable.\n",
              "      </output>\n",
              "      <script src=\"/nbextensions/google.colab/files.js\"></script> "
            ],
            "text/plain": [
              "<IPython.core.display.HTML object>"
            ]
          },
          "metadata": {
            "tags": []
          }
        },
        {
          "output_type": "stream",
          "text": [
            "Saving humidity.csv to humidity.csv\n"
          ],
          "name": "stdout"
        }
      ]
    },
    {
      "cell_type": "code",
      "metadata": {
        "id": "eIwKINccdFhp",
        "colab_type": "code",
        "colab": {}
      },
      "source": [
        "import io\n",
        "df2 = pd.read_csv(io.BytesIO(data_to_load['humidity.csv']))"
      ],
      "execution_count": null,
      "outputs": []
    },
    {
      "cell_type": "code",
      "metadata": {
        "id": "z0fpbhc1dZP-",
        "colab_type": "code",
        "colab": {
          "base_uri": "https://localhost:8080/",
          "height": 799
        },
        "outputId": "f7aab23d-320d-40a3-9efe-12e7e6924089"
      },
      "source": [
        "display(df2)"
      ],
      "execution_count": null,
      "outputs": [
        {
          "output_type": "display_data",
          "data": {
            "text/html": [
              "<div>\n",
              "<style scoped>\n",
              "    .dataframe tbody tr th:only-of-type {\n",
              "        vertical-align: middle;\n",
              "    }\n",
              "\n",
              "    .dataframe tbody tr th {\n",
              "        vertical-align: top;\n",
              "    }\n",
              "\n",
              "    .dataframe thead th {\n",
              "        text-align: right;\n",
              "    }\n",
              "</style>\n",
              "<table border=\"1\" class=\"dataframe\">\n",
              "  <thead>\n",
              "    <tr style=\"text-align: right;\">\n",
              "      <th></th>\n",
              "      <th>datetime</th>\n",
              "      <th>Vancouver</th>\n",
              "      <th>Portland</th>\n",
              "      <th>San Francisco</th>\n",
              "      <th>Seattle</th>\n",
              "      <th>Los Angeles</th>\n",
              "      <th>San Diego</th>\n",
              "      <th>Las Vegas</th>\n",
              "      <th>Phoenix</th>\n",
              "      <th>Albuquerque</th>\n",
              "      <th>Denver</th>\n",
              "      <th>San Antonio</th>\n",
              "      <th>Dallas</th>\n",
              "      <th>Houston</th>\n",
              "      <th>Kansas City</th>\n",
              "      <th>Minneapolis</th>\n",
              "      <th>Saint Louis</th>\n",
              "      <th>Chicago</th>\n",
              "      <th>Nashville</th>\n",
              "      <th>Indianapolis</th>\n",
              "      <th>Atlanta</th>\n",
              "      <th>Detroit</th>\n",
              "      <th>Jacksonville</th>\n",
              "      <th>Charlotte</th>\n",
              "      <th>Miami</th>\n",
              "      <th>Pittsburgh</th>\n",
              "      <th>Toronto</th>\n",
              "      <th>Philadelphia</th>\n",
              "      <th>New York</th>\n",
              "      <th>Montreal</th>\n",
              "      <th>Boston</th>\n",
              "      <th>Beersheba</th>\n",
              "      <th>Tel Aviv District</th>\n",
              "      <th>Eilat</th>\n",
              "      <th>Haifa</th>\n",
              "      <th>Nahariyya</th>\n",
              "      <th>Jerusalem</th>\n",
              "    </tr>\n",
              "  </thead>\n",
              "  <tbody>\n",
              "    <tr>\n",
              "      <th>0</th>\n",
              "      <td>2012-10-01 12:00:00</td>\n",
              "      <td>NaN</td>\n",
              "      <td>NaN</td>\n",
              "      <td>NaN</td>\n",
              "      <td>NaN</td>\n",
              "      <td>NaN</td>\n",
              "      <td>NaN</td>\n",
              "      <td>NaN</td>\n",
              "      <td>NaN</td>\n",
              "      <td>NaN</td>\n",
              "      <td>NaN</td>\n",
              "      <td>NaN</td>\n",
              "      <td>NaN</td>\n",
              "      <td>NaN</td>\n",
              "      <td>NaN</td>\n",
              "      <td>NaN</td>\n",
              "      <td>NaN</td>\n",
              "      <td>NaN</td>\n",
              "      <td>NaN</td>\n",
              "      <td>NaN</td>\n",
              "      <td>NaN</td>\n",
              "      <td>NaN</td>\n",
              "      <td>NaN</td>\n",
              "      <td>NaN</td>\n",
              "      <td>NaN</td>\n",
              "      <td>NaN</td>\n",
              "      <td>NaN</td>\n",
              "      <td>NaN</td>\n",
              "      <td>NaN</td>\n",
              "      <td>NaN</td>\n",
              "      <td>NaN</td>\n",
              "      <td>NaN</td>\n",
              "      <td>NaN</td>\n",
              "      <td>25.0</td>\n",
              "      <td>NaN</td>\n",
              "      <td>NaN</td>\n",
              "      <td>NaN</td>\n",
              "    </tr>\n",
              "    <tr>\n",
              "      <th>1</th>\n",
              "      <td>2012-10-01 13:00:00</td>\n",
              "      <td>76.0</td>\n",
              "      <td>81.0</td>\n",
              "      <td>88.0</td>\n",
              "      <td>81.0</td>\n",
              "      <td>88.0</td>\n",
              "      <td>82.0</td>\n",
              "      <td>22.0</td>\n",
              "      <td>23.0</td>\n",
              "      <td>50.0</td>\n",
              "      <td>62.0</td>\n",
              "      <td>93.0</td>\n",
              "      <td>87.0</td>\n",
              "      <td>93.0</td>\n",
              "      <td>71.0</td>\n",
              "      <td>67.0</td>\n",
              "      <td>71.0</td>\n",
              "      <td>71.0</td>\n",
              "      <td>100.0</td>\n",
              "      <td>76.0</td>\n",
              "      <td>94.0</td>\n",
              "      <td>76.0</td>\n",
              "      <td>88.0</td>\n",
              "      <td>87.0</td>\n",
              "      <td>83.0</td>\n",
              "      <td>93.0</td>\n",
              "      <td>82.0</td>\n",
              "      <td>71.0</td>\n",
              "      <td>58.0</td>\n",
              "      <td>93.0</td>\n",
              "      <td>68.0</td>\n",
              "      <td>50.0</td>\n",
              "      <td>63.0</td>\n",
              "      <td>22.0</td>\n",
              "      <td>51.0</td>\n",
              "      <td>51.0</td>\n",
              "      <td>50.0</td>\n",
              "    </tr>\n",
              "    <tr>\n",
              "      <th>2</th>\n",
              "      <td>2012-10-01 14:00:00</td>\n",
              "      <td>76.0</td>\n",
              "      <td>80.0</td>\n",
              "      <td>87.0</td>\n",
              "      <td>80.0</td>\n",
              "      <td>88.0</td>\n",
              "      <td>81.0</td>\n",
              "      <td>21.0</td>\n",
              "      <td>23.0</td>\n",
              "      <td>49.0</td>\n",
              "      <td>62.0</td>\n",
              "      <td>92.0</td>\n",
              "      <td>86.0</td>\n",
              "      <td>92.0</td>\n",
              "      <td>70.0</td>\n",
              "      <td>66.0</td>\n",
              "      <td>71.0</td>\n",
              "      <td>70.0</td>\n",
              "      <td>99.0</td>\n",
              "      <td>76.0</td>\n",
              "      <td>94.0</td>\n",
              "      <td>75.0</td>\n",
              "      <td>87.0</td>\n",
              "      <td>87.0</td>\n",
              "      <td>82.0</td>\n",
              "      <td>93.0</td>\n",
              "      <td>81.0</td>\n",
              "      <td>70.0</td>\n",
              "      <td>57.0</td>\n",
              "      <td>91.0</td>\n",
              "      <td>68.0</td>\n",
              "      <td>51.0</td>\n",
              "      <td>62.0</td>\n",
              "      <td>22.0</td>\n",
              "      <td>51.0</td>\n",
              "      <td>51.0</td>\n",
              "      <td>50.0</td>\n",
              "    </tr>\n",
              "    <tr>\n",
              "      <th>3</th>\n",
              "      <td>2012-10-01 15:00:00</td>\n",
              "      <td>76.0</td>\n",
              "      <td>80.0</td>\n",
              "      <td>86.0</td>\n",
              "      <td>80.0</td>\n",
              "      <td>88.0</td>\n",
              "      <td>81.0</td>\n",
              "      <td>21.0</td>\n",
              "      <td>23.0</td>\n",
              "      <td>49.0</td>\n",
              "      <td>62.0</td>\n",
              "      <td>92.0</td>\n",
              "      <td>86.0</td>\n",
              "      <td>90.0</td>\n",
              "      <td>70.0</td>\n",
              "      <td>66.0</td>\n",
              "      <td>71.0</td>\n",
              "      <td>70.0</td>\n",
              "      <td>99.0</td>\n",
              "      <td>76.0</td>\n",
              "      <td>94.0</td>\n",
              "      <td>75.0</td>\n",
              "      <td>87.0</td>\n",
              "      <td>87.0</td>\n",
              "      <td>82.0</td>\n",
              "      <td>93.0</td>\n",
              "      <td>79.0</td>\n",
              "      <td>70.0</td>\n",
              "      <td>57.0</td>\n",
              "      <td>87.0</td>\n",
              "      <td>68.0</td>\n",
              "      <td>51.0</td>\n",
              "      <td>62.0</td>\n",
              "      <td>22.0</td>\n",
              "      <td>51.0</td>\n",
              "      <td>51.0</td>\n",
              "      <td>50.0</td>\n",
              "    </tr>\n",
              "    <tr>\n",
              "      <th>4</th>\n",
              "      <td>2012-10-01 16:00:00</td>\n",
              "      <td>77.0</td>\n",
              "      <td>80.0</td>\n",
              "      <td>85.0</td>\n",
              "      <td>79.0</td>\n",
              "      <td>88.0</td>\n",
              "      <td>81.0</td>\n",
              "      <td>21.0</td>\n",
              "      <td>23.0</td>\n",
              "      <td>49.0</td>\n",
              "      <td>62.0</td>\n",
              "      <td>92.0</td>\n",
              "      <td>86.0</td>\n",
              "      <td>89.0</td>\n",
              "      <td>70.0</td>\n",
              "      <td>65.0</td>\n",
              "      <td>71.0</td>\n",
              "      <td>70.0</td>\n",
              "      <td>99.0</td>\n",
              "      <td>76.0</td>\n",
              "      <td>94.0</td>\n",
              "      <td>74.0</td>\n",
              "      <td>87.0</td>\n",
              "      <td>87.0</td>\n",
              "      <td>82.0</td>\n",
              "      <td>93.0</td>\n",
              "      <td>77.0</td>\n",
              "      <td>69.0</td>\n",
              "      <td>57.0</td>\n",
              "      <td>84.0</td>\n",
              "      <td>68.0</td>\n",
              "      <td>52.0</td>\n",
              "      <td>62.0</td>\n",
              "      <td>22.0</td>\n",
              "      <td>51.0</td>\n",
              "      <td>51.0</td>\n",
              "      <td>50.0</td>\n",
              "    </tr>\n",
              "    <tr>\n",
              "      <th>...</th>\n",
              "      <td>...</td>\n",
              "      <td>...</td>\n",
              "      <td>...</td>\n",
              "      <td>...</td>\n",
              "      <td>...</td>\n",
              "      <td>...</td>\n",
              "      <td>...</td>\n",
              "      <td>...</td>\n",
              "      <td>...</td>\n",
              "      <td>...</td>\n",
              "      <td>...</td>\n",
              "      <td>...</td>\n",
              "      <td>...</td>\n",
              "      <td>...</td>\n",
              "      <td>...</td>\n",
              "      <td>...</td>\n",
              "      <td>...</td>\n",
              "      <td>...</td>\n",
              "      <td>...</td>\n",
              "      <td>...</td>\n",
              "      <td>...</td>\n",
              "      <td>...</td>\n",
              "      <td>...</td>\n",
              "      <td>...</td>\n",
              "      <td>...</td>\n",
              "      <td>...</td>\n",
              "      <td>...</td>\n",
              "      <td>...</td>\n",
              "      <td>...</td>\n",
              "      <td>...</td>\n",
              "      <td>...</td>\n",
              "      <td>...</td>\n",
              "      <td>...</td>\n",
              "      <td>...</td>\n",
              "      <td>...</td>\n",
              "      <td>...</td>\n",
              "      <td>...</td>\n",
              "    </tr>\n",
              "    <tr>\n",
              "      <th>45248</th>\n",
              "      <td>2017-11-29 20:00:00</td>\n",
              "      <td>NaN</td>\n",
              "      <td>81.0</td>\n",
              "      <td>NaN</td>\n",
              "      <td>93.0</td>\n",
              "      <td>24.0</td>\n",
              "      <td>72.0</td>\n",
              "      <td>18.0</td>\n",
              "      <td>68.0</td>\n",
              "      <td>37.0</td>\n",
              "      <td>18.0</td>\n",
              "      <td>37.0</td>\n",
              "      <td>45.0</td>\n",
              "      <td>68.0</td>\n",
              "      <td>32.0</td>\n",
              "      <td>31.0</td>\n",
              "      <td>32.0</td>\n",
              "      <td>52.0</td>\n",
              "      <td>32.0</td>\n",
              "      <td>32.0</td>\n",
              "      <td>82.0</td>\n",
              "      <td>39.0</td>\n",
              "      <td>47.0</td>\n",
              "      <td>21.0</td>\n",
              "      <td>NaN</td>\n",
              "      <td>20.0</td>\n",
              "      <td>45.0</td>\n",
              "      <td>27.0</td>\n",
              "      <td>NaN</td>\n",
              "      <td>64.0</td>\n",
              "      <td>37.0</td>\n",
              "      <td>NaN</td>\n",
              "      <td>NaN</td>\n",
              "      <td>NaN</td>\n",
              "      <td>NaN</td>\n",
              "      <td>NaN</td>\n",
              "      <td>NaN</td>\n",
              "    </tr>\n",
              "    <tr>\n",
              "      <th>45249</th>\n",
              "      <td>2017-11-29 21:00:00</td>\n",
              "      <td>NaN</td>\n",
              "      <td>71.0</td>\n",
              "      <td>NaN</td>\n",
              "      <td>87.0</td>\n",
              "      <td>21.0</td>\n",
              "      <td>72.0</td>\n",
              "      <td>18.0</td>\n",
              "      <td>73.0</td>\n",
              "      <td>34.0</td>\n",
              "      <td>12.0</td>\n",
              "      <td>35.0</td>\n",
              "      <td>42.0</td>\n",
              "      <td>73.0</td>\n",
              "      <td>27.0</td>\n",
              "      <td>31.0</td>\n",
              "      <td>37.0</td>\n",
              "      <td>65.0</td>\n",
              "      <td>34.0</td>\n",
              "      <td>32.0</td>\n",
              "      <td>73.0</td>\n",
              "      <td>39.0</td>\n",
              "      <td>47.0</td>\n",
              "      <td>21.0</td>\n",
              "      <td>NaN</td>\n",
              "      <td>23.0</td>\n",
              "      <td>48.0</td>\n",
              "      <td>29.0</td>\n",
              "      <td>NaN</td>\n",
              "      <td>59.0</td>\n",
              "      <td>74.0</td>\n",
              "      <td>NaN</td>\n",
              "      <td>NaN</td>\n",
              "      <td>NaN</td>\n",
              "      <td>NaN</td>\n",
              "      <td>NaN</td>\n",
              "      <td>NaN</td>\n",
              "    </tr>\n",
              "    <tr>\n",
              "      <th>45250</th>\n",
              "      <td>2017-11-29 22:00:00</td>\n",
              "      <td>NaN</td>\n",
              "      <td>71.0</td>\n",
              "      <td>NaN</td>\n",
              "      <td>93.0</td>\n",
              "      <td>23.0</td>\n",
              "      <td>68.0</td>\n",
              "      <td>17.0</td>\n",
              "      <td>60.0</td>\n",
              "      <td>32.0</td>\n",
              "      <td>15.0</td>\n",
              "      <td>38.0</td>\n",
              "      <td>42.0</td>\n",
              "      <td>50.0</td>\n",
              "      <td>27.0</td>\n",
              "      <td>30.0</td>\n",
              "      <td>37.0</td>\n",
              "      <td>96.0</td>\n",
              "      <td>36.0</td>\n",
              "      <td>39.0</td>\n",
              "      <td>77.0</td>\n",
              "      <td>42.0</td>\n",
              "      <td>53.0</td>\n",
              "      <td>24.0</td>\n",
              "      <td>NaN</td>\n",
              "      <td>27.0</td>\n",
              "      <td>52.0</td>\n",
              "      <td>31.0</td>\n",
              "      <td>NaN</td>\n",
              "      <td>66.0</td>\n",
              "      <td>74.0</td>\n",
              "      <td>NaN</td>\n",
              "      <td>NaN</td>\n",
              "      <td>NaN</td>\n",
              "      <td>NaN</td>\n",
              "      <td>NaN</td>\n",
              "      <td>NaN</td>\n",
              "    </tr>\n",
              "    <tr>\n",
              "      <th>45251</th>\n",
              "      <td>2017-11-29 23:00:00</td>\n",
              "      <td>NaN</td>\n",
              "      <td>71.0</td>\n",
              "      <td>NaN</td>\n",
              "      <td>87.0</td>\n",
              "      <td>14.0</td>\n",
              "      <td>63.0</td>\n",
              "      <td>17.0</td>\n",
              "      <td>33.0</td>\n",
              "      <td>30.0</td>\n",
              "      <td>28.0</td>\n",
              "      <td>37.0</td>\n",
              "      <td>45.0</td>\n",
              "      <td>49.0</td>\n",
              "      <td>30.0</td>\n",
              "      <td>35.0</td>\n",
              "      <td>46.0</td>\n",
              "      <td>75.0</td>\n",
              "      <td>39.0</td>\n",
              "      <td>52.0</td>\n",
              "      <td>82.0</td>\n",
              "      <td>52.0</td>\n",
              "      <td>73.0</td>\n",
              "      <td>38.0</td>\n",
              "      <td>NaN</td>\n",
              "      <td>36.0</td>\n",
              "      <td>64.0</td>\n",
              "      <td>26.0</td>\n",
              "      <td>NaN</td>\n",
              "      <td>58.0</td>\n",
              "      <td>56.0</td>\n",
              "      <td>NaN</td>\n",
              "      <td>NaN</td>\n",
              "      <td>NaN</td>\n",
              "      <td>NaN</td>\n",
              "      <td>NaN</td>\n",
              "      <td>NaN</td>\n",
              "    </tr>\n",
              "    <tr>\n",
              "      <th>45252</th>\n",
              "      <td>2017-11-30 00:00:00</td>\n",
              "      <td>NaN</td>\n",
              "      <td>76.0</td>\n",
              "      <td>NaN</td>\n",
              "      <td>75.0</td>\n",
              "      <td>56.0</td>\n",
              "      <td>72.0</td>\n",
              "      <td>17.0</td>\n",
              "      <td>23.0</td>\n",
              "      <td>34.0</td>\n",
              "      <td>31.0</td>\n",
              "      <td>48.0</td>\n",
              "      <td>42.0</td>\n",
              "      <td>52.0</td>\n",
              "      <td>32.0</td>\n",
              "      <td>38.0</td>\n",
              "      <td>46.0</td>\n",
              "      <td>86.0</td>\n",
              "      <td>41.0</td>\n",
              "      <td>52.0</td>\n",
              "      <td>100.0</td>\n",
              "      <td>56.0</td>\n",
              "      <td>88.0</td>\n",
              "      <td>41.0</td>\n",
              "      <td>NaN</td>\n",
              "      <td>42.0</td>\n",
              "      <td>60.0</td>\n",
              "      <td>32.0</td>\n",
              "      <td>NaN</td>\n",
              "      <td>58.0</td>\n",
              "      <td>56.0</td>\n",
              "      <td>NaN</td>\n",
              "      <td>NaN</td>\n",
              "      <td>NaN</td>\n",
              "      <td>NaN</td>\n",
              "      <td>NaN</td>\n",
              "      <td>NaN</td>\n",
              "    </tr>\n",
              "  </tbody>\n",
              "</table>\n",
              "<p>45253 rows × 37 columns</p>\n",
              "</div>"
            ],
            "text/plain": [
              "                  datetime  Vancouver  Portland  ...  Haifa  Nahariyya  Jerusalem\n",
              "0      2012-10-01 12:00:00        NaN       NaN  ...    NaN        NaN        NaN\n",
              "1      2012-10-01 13:00:00       76.0      81.0  ...   51.0       51.0       50.0\n",
              "2      2012-10-01 14:00:00       76.0      80.0  ...   51.0       51.0       50.0\n",
              "3      2012-10-01 15:00:00       76.0      80.0  ...   51.0       51.0       50.0\n",
              "4      2012-10-01 16:00:00       77.0      80.0  ...   51.0       51.0       50.0\n",
              "...                    ...        ...       ...  ...    ...        ...        ...\n",
              "45248  2017-11-29 20:00:00        NaN      81.0  ...    NaN        NaN        NaN\n",
              "45249  2017-11-29 21:00:00        NaN      71.0  ...    NaN        NaN        NaN\n",
              "45250  2017-11-29 22:00:00        NaN      71.0  ...    NaN        NaN        NaN\n",
              "45251  2017-11-29 23:00:00        NaN      71.0  ...    NaN        NaN        NaN\n",
              "45252  2017-11-30 00:00:00        NaN      76.0  ...    NaN        NaN        NaN\n",
              "\n",
              "[45253 rows x 37 columns]"
            ]
          },
          "metadata": {
            "tags": []
          }
        }
      ]
    },
    {
      "cell_type": "code",
      "metadata": {
        "id": "83wau1jtd_9x",
        "colab_type": "code",
        "colab": {}
      },
      "source": [
        "#keeping only the humidity column for each city and removing null values\n",
        "\n",
        "# humidity of san antonio\n",
        "humS =  df2.drop(df2.iloc[:,0:11].columns, axis = 1); humS = humS.drop(humS.iloc[:,1:].columns,axis =1)\n",
        "humS = humS.rename(columns={humS.columns[0]: \" San Antonio humidity\"})\n",
        "humS = humS.dropna(axis=0) ; humS= humS.reset_index(drop=True)\n",
        "\n",
        "# humidity of dallas\n",
        "humD =  df2.drop(df2.iloc[:,0:12].columns, axis = 1); humD = humD.drop(humD.iloc[:,1:].columns,axis =1)\n",
        "humD = humD.rename(columns={humD.columns[0]: \" Dallas humidity\"})\n",
        "humD = humD.dropna(axis=0) ; humD= humD.reset_index(drop=True)\n",
        "\n",
        "# humidity of houston\n",
        "humH =  df2.drop(df2.iloc[:,0:13].columns, axis = 1); humH = humH.drop(humH.iloc[:,1:].columns,axis =1)\n",
        "humH = humH.rename(columns={humH.columns[0]: \" Houston humidity\"})\n",
        "humH = humH.dropna(axis=0); humH= humH.reset_index(drop=True)"
      ],
      "execution_count": null,
      "outputs": []
    },
    {
      "cell_type": "markdown",
      "metadata": {
        "id": "MnJUCsq-j5T2",
        "colab_type": "text"
      },
      "source": [
        "**MODELING FOR SAN ANTONIO CITY - HUMIDITY**"
      ]
    },
    {
      "cell_type": "code",
      "metadata": {
        "id": "Hsmi9BNVer2q",
        "colab_type": "code",
        "colab": {}
      },
      "source": [
        "# Modeling for San Antonio Humidity\n",
        "training_data = humS.iloc[:30000]; testing_data = humS.iloc[30000:]\n",
        "\n",
        "#Normalizing the data\n",
        "scaler_sa = MinMaxScaler(feature_range=(0,1)); training_data_normalized = scaler_sa.fit_transform(training_data)"
      ],
      "execution_count": null,
      "outputs": []
    },
    {
      "cell_type": "code",
      "metadata": {
        "id": "U32C74dKqXAc",
        "colab_type": "code",
        "colab": {}
      },
      "source": [
        "# Split into input and outputs for San Antonio humidity\n",
        "x_train_sa = []; y_train_sa = []\n",
        "next = 4; past= 30\n",
        "\n",
        "for i in range(0,len(training_data_normalized)-past-next+1):\n",
        "    x_train_sa.append(training_data_normalized[i : i + past , 0])     \n",
        "    y_train_sa.append(training_data_normalized[i + past : i + past + next , 0 ])"
      ],
      "execution_count": null,
      "outputs": []
    },
    {
      "cell_type": "code",
      "metadata": {
        "id": "UE0dqz8qq86C",
        "colab_type": "code",
        "colab": {}
      },
      "source": [
        "x_train_sa , y_train_sa = np.array(x_train_sa), np.array(y_train_sa)\n",
        "\n",
        "x_train_sa = np.reshape(x_train_sa, (x_train_sa.shape[0] , 1, x_train_sa.shape[1]))"
      ],
      "execution_count": null,
      "outputs": []
    },
    {
      "cell_type": "code",
      "metadata": {
        "id": "-gtT9OZHrY4c",
        "colab_type": "code",
        "colab": {
          "base_uri": "https://localhost:8080/",
          "height": 35
        },
        "outputId": "a4d21749-6573-44b6-f5e0-606b94f056e9"
      },
      "source": [
        "x_train_sa.shape"
      ],
      "execution_count": null,
      "outputs": [
        {
          "output_type": "execute_result",
          "data": {
            "text/plain": [
              "(29967, 1, 30)"
            ]
          },
          "metadata": {
            "tags": []
          },
          "execution_count": 59
        }
      ]
    },
    {
      "cell_type": "code",
      "metadata": {
        "id": "aAwfz13QrMS8",
        "colab_type": "code",
        "colab": {
          "base_uri": "https://localhost:8080/",
          "height": 884
        },
        "outputId": "28cdb1bc-23e3-43dd-cb94-18522b12aaba"
      },
      "source": [
        "from keras.layers import LSTM,Dense,Dropout\n",
        "\n",
        "# Training for 25 Epochs\n",
        "model_saHum = Sequential()\n",
        "\n",
        "model_saHum.add(LSTM(units=50, return_sequences=True, input_shape = (x_train_sa.shape[1],x_train_sa.shape[2])))\n",
        "model_saHum.add(Dropout(0.2))\n",
        "model_saHum.add(LSTM(32, return_sequences=True))\n",
        "model_saHum.add(Dropout(0.2))\n",
        "model_saHum.add(LSTM(32))\n",
        "model_saHum.add(Dense(units = next,activation='softmax'))\n",
        "model_saHum.compile(optimizer='adam', loss='mean_squared_error',metrics=['acc'])\n",
        "\n",
        "history_sa = model_saHum.fit(x_train_sa, y_train_sa, epochs=25, batch_size=100 )  "
      ],
      "execution_count": null,
      "outputs": [
        {
          "output_type": "stream",
          "text": [
            "Epoch 1/25\n",
            "300/300 [==============================] - 2s 6ms/step - loss: 0.2120 - acc: 0.5208\n",
            "Epoch 2/25\n",
            "300/300 [==============================] - 2s 6ms/step - loss: 0.2117 - acc: 0.5463\n",
            "Epoch 3/25\n",
            "300/300 [==============================] - 2s 6ms/step - loss: 0.2117 - acc: 0.5466\n",
            "Epoch 4/25\n",
            "300/300 [==============================] - 2s 6ms/step - loss: 0.2117 - acc: 0.5499\n",
            "Epoch 5/25\n",
            "300/300 [==============================] - 2s 6ms/step - loss: 0.2117 - acc: 0.5485\n",
            "Epoch 6/25\n",
            "300/300 [==============================] - 2s 6ms/step - loss: 0.2117 - acc: 0.5490\n",
            "Epoch 7/25\n",
            "300/300 [==============================] - 2s 6ms/step - loss: 0.2117 - acc: 0.5465\n",
            "Epoch 8/25\n",
            "300/300 [==============================] - 2s 6ms/step - loss: 0.2117 - acc: 0.5488\n",
            "Epoch 9/25\n",
            "300/300 [==============================] - 2s 6ms/step - loss: 0.2117 - acc: 0.5498\n",
            "Epoch 10/25\n",
            "300/300 [==============================] - 2s 6ms/step - loss: 0.2117 - acc: 0.5498\n",
            "Epoch 11/25\n",
            "300/300 [==============================] - 2s 6ms/step - loss: 0.2117 - acc: 0.5491\n",
            "Epoch 12/25\n",
            "300/300 [==============================] - 2s 6ms/step - loss: 0.2117 - acc: 0.5467\n",
            "Epoch 13/25\n",
            "300/300 [==============================] - 2s 6ms/step - loss: 0.2117 - acc: 0.5488\n",
            "Epoch 14/25\n",
            "300/300 [==============================] - 2s 6ms/step - loss: 0.2117 - acc: 0.5459\n",
            "Epoch 15/25\n",
            "300/300 [==============================] - 2s 6ms/step - loss: 0.2117 - acc: 0.5437\n",
            "Epoch 16/25\n",
            "300/300 [==============================] - 2s 6ms/step - loss: 0.2117 - acc: 0.5434\n",
            "Epoch 17/25\n",
            "300/300 [==============================] - 2s 6ms/step - loss: 0.2117 - acc: 0.5489\n",
            "Epoch 18/25\n",
            "300/300 [==============================] - 2s 6ms/step - loss: 0.2117 - acc: 0.5450\n",
            "Epoch 19/25\n",
            "300/300 [==============================] - 2s 6ms/step - loss: 0.2117 - acc: 0.5470\n",
            "Epoch 20/25\n",
            "300/300 [==============================] - 2s 6ms/step - loss: 0.2117 - acc: 0.5451\n",
            "Epoch 21/25\n",
            "300/300 [==============================] - 2s 6ms/step - loss: 0.2117 - acc: 0.5459\n",
            "Epoch 22/25\n",
            "300/300 [==============================] - 2s 6ms/step - loss: 0.2117 - acc: 0.5465\n",
            "Epoch 23/25\n",
            "300/300 [==============================] - 2s 6ms/step - loss: 0.2117 - acc: 0.5458\n",
            "Epoch 24/25\n",
            "300/300 [==============================] - 2s 6ms/step - loss: 0.2117 - acc: 0.5468\n",
            "Epoch 25/25\n",
            "300/300 [==============================] - 2s 6ms/step - loss: 0.2117 - acc: 0.5459\n"
          ],
          "name": "stdout"
        }
      ]
    },
    {
      "cell_type": "code",
      "metadata": {
        "id": "eaCvd9g0GIOT",
        "colab_type": "code",
        "colab": {
          "base_uri": "https://localhost:8080/",
          "height": 625
        },
        "outputId": "b73d57b6-97a1-416d-941f-e1b1a2c6d94a"
      },
      "source": [
        "import matplotlib.pyplot as plt\n",
        "#Plot testing accuracy vs Epochs\n",
        "plt.plot(history_sa.history['acc']); plt.title('SAN ANTONIO: Training accuracy vs Epochs, alpha = 0.01'); plt.ylabel('Accuracy'); plt.xlabel('Epochs')\n",
        "plt.show()\n",
        "\n",
        "#Plot training loss vs Epochs\n",
        "plt.plot(history_sa.history['loss']); plt.title('SAN ANTONIO: Training Loss vs Epochs, alpha = 0.01'); plt.ylabel('Loss'); plt.xlabel('Epochs')\n",
        "plt.show()\n",
        "\n",
        "print(f\"Training accuracy 25 epochs(lr 0.01): {history_sa.history['acc'][-1] * 100} \"); print(f\"Training loss 25 epochs(lr 0.01): {history_sa.history['loss'][-1]} \" )\n",
        "\n",
        "print(history_sa.epoch)"
      ],
      "execution_count": null,
      "outputs": [
        {
          "output_type": "display_data",
          "data": {
            "image/png": "[encoded data removed]",
            "text/plain": [
              "<Figure size 432x288 with 1 Axes>"
            ]
          },
          "metadata": {
            "tags": [],
            "needs_background": "light"
          }
        },
        {
          "output_type": "display_data",
          "data": {
            "image/png": "[encoded data removed]",
            "text/plain": [
              "<Figure size 432x288 with 1 Axes>"
            ]
          },
          "metadata": {
            "tags": [],
            "needs_background": "light"
          }
        },
        {
          "output_type": "stream",
          "text": [
            "Training accuracy 25 epochs(lr 0.01): 54.58671450614929 \n",
            "Training loss 25 epochs(lr 0.01): 0.21166087687015533 \n",
            "[0, 1, 2, 3, 4, 5, 6, 7, 8, 9, 10, 11, 12, 13, 14, 15, 16, 17, 18, 19, 20, 21, 22, 23, 24]\n"
          ],
          "name": "stdout"
        }
      ]
    },
    {
      "cell_type": "code",
      "metadata": {
        "id": "aHjiqIXZGYbK",
        "colab_type": "code",
        "colab": {
          "base_uri": "https://localhost:8080/",
          "height": 1000
        },
        "outputId": "d4e49d6e-6b3a-4788-b483-f7ebd7acba30"
      },
      "source": [
        "from keras.layers import LSTM,Dense,Dropout\n",
        "\n",
        "# Training for 45 Epochs with batch size 75\n",
        "model_saHum = Sequential()\n",
        "\n",
        "model_saHum.add(LSTM(units=50, return_sequences=True, input_shape = (x_train_sa.shape[1],x_train_sa.shape[2])))\n",
        "model_saHum.add(Dropout(0.2))\n",
        "model_saHum.add(LSTM(32, return_sequences=True))\n",
        "model_saHum.add(Dropout(0.2))\n",
        "model_saHum.add(LSTM(32))\n",
        "model_saHum.add(Dense(units = next,activation='softmax'))\n",
        "model_saHum.compile(optimizer='adam', loss='mean_squared_error',metrics=['acc'])\n",
        "\n",
        "history_sa = model_saHum.fit(x_train_sa, y_train_sa, epochs=45,batch_size=75 )"
      ],
      "execution_count": null,
      "outputs": [
        {
          "output_type": "stream",
          "text": [
            "Epoch 1/45\n",
            "400/400 [==============================] - 2s 6ms/step - loss: 0.2120 - acc: 0.5255\n",
            "Epoch 2/45\n",
            "400/400 [==============================] - 2s 6ms/step - loss: 0.2117 - acc: 0.5448\n",
            "Epoch 3/45\n",
            "400/400 [==============================] - 2s 6ms/step - loss: 0.2117 - acc: 0.5451\n",
            "Epoch 4/45\n",
            "400/400 [==============================] - 2s 6ms/step - loss: 0.2117 - acc: 0.5472\n",
            "Epoch 5/45\n",
            "400/400 [==============================] - 2s 6ms/step - loss: 0.2117 - acc: 0.5485\n",
            "Epoch 6/45\n",
            "400/400 [==============================] - 2s 6ms/step - loss: 0.2117 - acc: 0.5465\n",
            "Epoch 7/45\n",
            "400/400 [==============================] - 2s 6ms/step - loss: 0.2117 - acc: 0.5464\n",
            "Epoch 8/45\n",
            "400/400 [==============================] - 2s 6ms/step - loss: 0.2117 - acc: 0.5454\n",
            "Epoch 9/45\n",
            "400/400 [==============================] - 2s 6ms/step - loss: 0.2117 - acc: 0.5484\n",
            "Epoch 10/45\n",
            "400/400 [==============================] - 2s 6ms/step - loss: 0.2117 - acc: 0.5462\n",
            "Epoch 11/45\n",
            "400/400 [==============================] - 2s 6ms/step - loss: 0.2117 - acc: 0.5457\n",
            "Epoch 12/45\n",
            "400/400 [==============================] - 2s 6ms/step - loss: 0.2117 - acc: 0.5447\n",
            "Epoch 13/45\n",
            "400/400 [==============================] - 2s 6ms/step - loss: 0.2117 - acc: 0.5449\n",
            "Epoch 14/45\n",
            "400/400 [==============================] - 2s 6ms/step - loss: 0.2117 - acc: 0.5450\n",
            "Epoch 15/45\n",
            "400/400 [==============================] - 2s 6ms/step - loss: 0.2117 - acc: 0.5436\n",
            "Epoch 16/45\n",
            "400/400 [==============================] - 2s 6ms/step - loss: 0.2117 - acc: 0.5487\n",
            "Epoch 17/45\n",
            "400/400 [==============================] - 2s 6ms/step - loss: 0.2117 - acc: 0.5428\n",
            "Epoch 18/45\n",
            "400/400 [==============================] - 2s 6ms/step - loss: 0.2117 - acc: 0.5476\n",
            "Epoch 19/45\n",
            "400/400 [==============================] - 2s 6ms/step - loss: 0.2117 - acc: 0.5458\n",
            "Epoch 20/45\n",
            "400/400 [==============================] - 2s 6ms/step - loss: 0.2117 - acc: 0.5459\n",
            "Epoch 21/45\n",
            "400/400 [==============================] - 2s 6ms/step - loss: 0.2117 - acc: 0.5472\n",
            "Epoch 22/45\n",
            "400/400 [==============================] - 2s 6ms/step - loss: 0.2117 - acc: 0.5433\n",
            "Epoch 23/45\n",
            "400/400 [==============================] - 2s 6ms/step - loss: 0.2117 - acc: 0.5440\n",
            "Epoch 24/45\n",
            "400/400 [==============================] - 2s 6ms/step - loss: 0.2117 - acc: 0.5425\n",
            "Epoch 25/45\n",
            "400/400 [==============================] - 2s 6ms/step - loss: 0.2117 - acc: 0.5453\n",
            "Epoch 26/45\n",
            "400/400 [==============================] - 2s 6ms/step - loss: 0.2117 - acc: 0.5462\n",
            "Epoch 27/45\n",
            "400/400 [==============================] - 2s 6ms/step - loss: 0.2116 - acc: 0.5486\n",
            "Epoch 28/45\n",
            "400/400 [==============================] - 2s 6ms/step - loss: 0.2116 - acc: 0.5451\n",
            "Epoch 29/45\n",
            "400/400 [==============================] - 2s 6ms/step - loss: 0.2116 - acc: 0.5445\n",
            "Epoch 30/45\n",
            "400/400 [==============================] - 2s 6ms/step - loss: 0.2116 - acc: 0.5456\n",
            "Epoch 31/45\n",
            "400/400 [==============================] - 2s 6ms/step - loss: 0.2116 - acc: 0.5453\n",
            "Epoch 32/45\n",
            "400/400 [==============================] - 2s 6ms/step - loss: 0.2116 - acc: 0.5450\n",
            "Epoch 33/45\n",
            "400/400 [==============================] - 2s 6ms/step - loss: 0.2116 - acc: 0.5449\n",
            "Epoch 34/45\n",
            "400/400 [==============================] - 2s 6ms/step - loss: 0.2116 - acc: 0.5472\n",
            "Epoch 35/45\n",
            "400/400 [==============================] - 2s 6ms/step - loss: 0.2116 - acc: 0.5479\n",
            "Epoch 36/45\n",
            "400/400 [==============================] - 2s 6ms/step - loss: 0.2116 - acc: 0.5490\n",
            "Epoch 37/45\n",
            "400/400 [==============================] - 2s 6ms/step - loss: 0.2116 - acc: 0.5470\n",
            "Epoch 38/45\n",
            "400/400 [==============================] - 2s 6ms/step - loss: 0.2116 - acc: 0.5463\n",
            "Epoch 39/45\n",
            "400/400 [==============================] - 2s 6ms/step - loss: 0.2116 - acc: 0.5485\n",
            "Epoch 40/45\n",
            "400/400 [==============================] - 2s 6ms/step - loss: 0.2116 - acc: 0.5456\n",
            "Epoch 41/45\n",
            "400/400 [==============================] - 2s 6ms/step - loss: 0.2116 - acc: 0.5467\n",
            "Epoch 42/45\n",
            "400/400 [==============================] - 2s 6ms/step - loss: 0.2116 - acc: 0.5478\n",
            "Epoch 43/45\n",
            "400/400 [==============================] - 2s 6ms/step - loss: 0.2116 - acc: 0.5452\n",
            "Epoch 44/45\n",
            "400/400 [==============================] - 2s 6ms/step - loss: 0.2116 - acc: 0.5483\n",
            "Epoch 45/45\n",
            "400/400 [==============================] - 2s 6ms/step - loss: 0.2116 - acc: 0.5469\n"
          ],
          "name": "stdout"
        }
      ]
    },
    {
      "cell_type": "code",
      "metadata": {
        "id": "6OD4LJbQGdIr",
        "colab_type": "code",
        "colab": {
          "base_uri": "https://localhost:8080/",
          "height": 645
        },
        "outputId": "c2e6b234-7a06-4046-cd0f-4b113626f2e5"
      },
      "source": [
        "import matplotlib.pyplot as plt\n",
        "#Plot testing accuracy vs Epochs -  Higher epochs, lower batch\n",
        "plt.plot(history_sa.history['acc']); plt.title('SAN ANTONIO: Training accuracy vs Epochs, alpha = 0.01'); plt.ylabel('Accuracy'); plt.xlabel('Epochs')\n",
        "plt.show()\n",
        "\n",
        "#Plot training loss vs Epochs\n",
        "plt.plot(history_sa.history['loss']); plt.title('SAN ANTONIO: Training Loss vs Epochs, alpha = 0.01'); plt.ylabel('Loss'); plt.xlabel('Epochs')\n",
        "plt.show()\n",
        "\n",
        "print(f\"Training accuracy 25 epochs(lr 0.01): {history_sa.history['acc'][-1] * 100} \"); print(f\"Training loss 25 epochs(lr 0.01): {history_sa.history['loss'][-1]} \" )\n",
        "\n",
        "print(history_sa.epoch)"
      ],
      "execution_count": null,
      "outputs": [
        {
          "output_type": "display_data",
          "data": {
            "image/png": "[encoded data removed]",
            "text/plain": [
              "<Figure size 432x288 with 1 Axes>"
            ]
          },
          "metadata": {
            "tags": [],
            "needs_background": "light"
          }
        },
        {
          "output_type": "display_data",
          "data": {
            "image/png": "[encoded data removed]",
            "text/plain": [
              "<Figure size 432x288 with 1 Axes>"
            ]
          },
          "metadata": {
            "tags": [],
            "needs_background": "light"
          }
        },
        {
          "output_type": "stream",
          "text": [
            "Training accuracy 25 epochs(lr 0.01): 54.693496227264404 \n",
            "Training loss 25 epochs(lr 0.01): 0.2116212546825409 \n",
            "[0, 1, 2, 3, 4, 5, 6, 7, 8, 9, 10, 11, 12, 13, 14, 15, 16, 17, 18, 19, 20, 21, 22, 23, 24, 25, 26, 27, 28, 29, 30, 31, 32, 33, 34, 35, 36, 37, 38, 39, 40, 41, 42, 43, 44]\n"
          ],
          "name": "stdout"
        }
      ]
    },
    {
      "cell_type": "markdown",
      "metadata": {
        "id": "Wu7l9A-E4P6O",
        "colab_type": "text"
      },
      "source": [
        "**MODELING FOR DALLAS CITY - HUMIDITY**"
      ]
    },
    {
      "cell_type": "code",
      "metadata": {
        "id": "CFfUCIT64ZGU",
        "colab_type": "code",
        "colab": {}
      },
      "source": [
        "# Modeling for Dallas Humidity\n",
        "training_data = humD.iloc[:30000]; testing_data = humD.iloc[30000:]\n",
        "\n",
        "#Normalizing the data\n",
        "scaler_da = MinMaxScaler(feature_range=(0,1)); training_data_normalized = scaler_da.fit_transform(training_data)"
      ],
      "execution_count": null,
      "outputs": []
    },
    {
      "cell_type": "code",
      "metadata": {
        "id": "p2NbiEvm4iUB",
        "colab_type": "code",
        "colab": {}
      },
      "source": [
        "# Split into input and outputs for Dallas humidity\n",
        "x_train_da = []; y_train_da = []\n",
        "next = 4; past= 30\n",
        "\n",
        "for i in range(0,len(training_data_normalized)-past-next+1):\n",
        "    x_train_da.append(training_data_normalized[i : i + past , 0])     \n",
        "    y_train_da.append(training_data_normalized[i + past : i + past + next , 0 ])"
      ],
      "execution_count": null,
      "outputs": []
    },
    {
      "cell_type": "code",
      "metadata": {
        "id": "BRkXX5XAEski",
        "colab_type": "code",
        "colab": {}
      },
      "source": [
        "x_train_da , y_train_da = np.array(x_train_da), np.array(y_train_da)\n",
        "\n",
        "x_train_da = np.reshape(x_train_da, (x_train_da.shape[0] , 1, x_train_da.shape[1]))"
      ],
      "execution_count": null,
      "outputs": []
    },
    {
      "cell_type": "code",
      "metadata": {
        "id": "kNA3TU0uEwnr",
        "colab_type": "code",
        "colab": {
          "base_uri": "https://localhost:8080/",
          "height": 35
        },
        "outputId": "1132acda-7aa1-4a70-d978-f0620cb627b0"
      },
      "source": [
        "x_train_da.shape"
      ],
      "execution_count": null,
      "outputs": [
        {
          "output_type": "execute_result",
          "data": {
            "text/plain": [
              "(29967, 1, 30)"
            ]
          },
          "metadata": {
            "tags": []
          },
          "execution_count": 67
        }
      ]
    },
    {
      "cell_type": "code",
      "metadata": {
        "id": "QFOm17tAFDZp",
        "colab_type": "code",
        "colab": {
          "base_uri": "https://localhost:8080/",
          "height": 884
        },
        "outputId": "97ce791e-4c08-41b9-a092-2d69259b80bb"
      },
      "source": [
        "from keras.layers import LSTM,Dense,Dropout\n",
        "\n",
        "# Training for 25 Epochs\n",
        "model_daHum = Sequential()\n",
        "\n",
        "model_daHum.add(LSTM(units=50, return_sequences=True, input_shape = (x_train_da.shape[1],x_train_da.shape[2])))\n",
        "model_daHum.add(Dropout(0.2))\n",
        "model_daHum.add(LSTM(32, return_sequences=True))\n",
        "model_daHum.add(Dropout(0.2))\n",
        "model_daHum.add(LSTM(32))\n",
        "model_daHum.add(Dense(units = next,activation='softmax'))\n",
        "model_daHum.compile(optimizer='adam', loss='mean_squared_error',metrics=['acc'])\n",
        "\n",
        "history_da = model_daHum.fit(x_train_da, y_train_da, epochs=25,batch_size=100 )"
      ],
      "execution_count": null,
      "outputs": [
        {
          "output_type": "stream",
          "text": [
            "Epoch 1/25\n",
            "300/300 [==============================] - 2s 6ms/step - loss: 0.1816 - acc: 0.4771\n",
            "Epoch 2/25\n",
            "300/300 [==============================] - 2s 6ms/step - loss: 0.1814 - acc: 0.5242\n",
            "Epoch 3/25\n",
            "300/300 [==============================] - 2s 6ms/step - loss: 0.1813 - acc: 0.5221\n",
            "Epoch 4/25\n",
            "300/300 [==============================] - 2s 6ms/step - loss: 0.1813 - acc: 0.5255\n",
            "Epoch 5/25\n",
            "300/300 [==============================] - 2s 6ms/step - loss: 0.1813 - acc: 0.5272\n",
            "Epoch 6/25\n",
            "300/300 [==============================] - 2s 6ms/step - loss: 0.1813 - acc: 0.5251\n",
            "Epoch 7/25\n",
            "300/300 [==============================] - 2s 6ms/step - loss: 0.1813 - acc: 0.5247\n",
            "Epoch 8/25\n",
            "300/300 [==============================] - 2s 6ms/step - loss: 0.1813 - acc: 0.5266\n",
            "Epoch 9/25\n",
            "300/300 [==============================] - 2s 6ms/step - loss: 0.1813 - acc: 0.5258\n",
            "Epoch 10/25\n",
            "300/300 [==============================] - 2s 6ms/step - loss: 0.1813 - acc: 0.5235\n",
            "Epoch 11/25\n",
            "300/300 [==============================] - 2s 6ms/step - loss: 0.1813 - acc: 0.5255\n",
            "Epoch 12/25\n",
            "300/300 [==============================] - 2s 6ms/step - loss: 0.1813 - acc: 0.5233\n",
            "Epoch 13/25\n",
            "300/300 [==============================] - 2s 6ms/step - loss: 0.1813 - acc: 0.5258\n",
            "Epoch 14/25\n",
            "300/300 [==============================] - 2s 6ms/step - loss: 0.1813 - acc: 0.5285\n",
            "Epoch 15/25\n",
            "300/300 [==============================] - 2s 6ms/step - loss: 0.1813 - acc: 0.5272\n",
            "Epoch 16/25\n",
            "300/300 [==============================] - 2s 6ms/step - loss: 0.1813 - acc: 0.5274\n",
            "Epoch 17/25\n",
            "300/300 [==============================] - 2s 6ms/step - loss: 0.1813 - acc: 0.5264\n",
            "Epoch 18/25\n",
            "300/300 [==============================] - 2s 6ms/step - loss: 0.1813 - acc: 0.5256\n",
            "Epoch 19/25\n",
            "300/300 [==============================] - 2s 6ms/step - loss: 0.1813 - acc: 0.5271\n",
            "Epoch 20/25\n",
            "300/300 [==============================] - 2s 6ms/step - loss: 0.1813 - acc: 0.5267\n",
            "Epoch 21/25\n",
            "300/300 [==============================] - 2s 6ms/step - loss: 0.1813 - acc: 0.5254\n",
            "Epoch 22/25\n",
            "300/300 [==============================] - 2s 6ms/step - loss: 0.1813 - acc: 0.5252\n",
            "Epoch 23/25\n",
            "300/300 [==============================] - 2s 6ms/step - loss: 0.1813 - acc: 0.5270\n",
            "Epoch 24/25\n",
            "300/300 [==============================] - 2s 6ms/step - loss: 0.1813 - acc: 0.5259\n",
            "Epoch 25/25\n",
            "300/300 [==============================] - 2s 6ms/step - loss: 0.1813 - acc: 0.5262\n"
          ],
          "name": "stdout"
        }
      ]
    },
    {
      "cell_type": "code",
      "metadata": {
        "id": "fHoFMGTRFUmA",
        "colab_type": "code",
        "colab": {
          "base_uri": "https://localhost:8080/",
          "height": 625
        },
        "outputId": "6115edd9-a7a1-485f-d19c-1aff3fce1ba0"
      },
      "source": [
        "import matplotlib.pyplot as plt\n",
        "#Plot testing accuracy vs Epochs\n",
        "plt.plot(history_da.history['acc']); plt.title('DALLAS: Training accuracy vs Epochs, alpha = 0.01'); plt.ylabel('Accuracy'); plt.xlabel('Epochs')\n",
        "plt.show()\n",
        "\n",
        "#Plot training loss vs Epochs\n",
        "plt.plot(history_da.history['loss']); plt.title('DALLAS: Training Loss vs Epochs, alpha = 0.01'); plt.ylabel('Loss'); plt.xlabel('Epochs')\n",
        "plt.show()\n",
        "\n",
        "print(f\"Training accuracy 25 epochs(lr 0.01): {history_da.history['acc'][-1] * 100} \"); print(f\"Training loss 25 epochs(lr 0.01): {history_da.history['loss'][-1]} \")\n",
        "\n",
        "print(history_da.epoch)"
      ],
      "execution_count": null,
      "outputs": [
        {
          "output_type": "display_data",
          "data": {
            "image/png": "[encoded data removed]",
            "text/plain": [
              "<Figure size 432x288 with 1 Axes>"
            ]
          },
          "metadata": {
            "tags": [],
            "needs_background": "light"
          }
        },
        {
          "output_type": "display_data",
          "data": {
            "image/png": "[encoded data removed]",
            "text/plain": [
              "<Figure size 432x288 with 1 Axes>"
            ]
          },
          "metadata": {
            "tags": [],
            "needs_background": "light"
          }
        },
        {
          "output_type": "stream",
          "text": [
            "Training accuracy 25 epochs(lr 0.01): 52.6178777217865 \n",
            "Training loss 25 epochs(lr 0.01): 0.18130293488502502 \n",
            "[0, 1, 2, 3, 4, 5, 6, 7, 8, 9, 10, 11, 12, 13, 14, 15, 16, 17, 18, 19, 20, 21, 22, 23, 24]\n"
          ],
          "name": "stdout"
        }
      ]
    },
    {
      "cell_type": "code",
      "metadata": {
        "id": "1KxiyVWVG2uQ",
        "colab_type": "code",
        "colab": {
          "base_uri": "https://localhost:8080/",
          "height": 1000
        },
        "outputId": "3a87c90e-dd94-4517-e196-0c1677e4a571"
      },
      "source": [
        "from keras.layers import LSTM,Dense,Dropout\n",
        "\n",
        "# Training for 45 Epochs, batch size = 75\n",
        "model_daHum = Sequential()\n",
        "\n",
        "model_daHum.add(LSTM(units=50, return_sequences=True, input_shape = (x_train_da.shape[1],x_train_da.shape[2])))\n",
        "model_daHum.add(Dropout(0.2))\n",
        "model_daHum.add(LSTM(32, return_sequences=True))\n",
        "model_daHum.add(Dropout(0.2))\n",
        "model_daHum.add(LSTM(32))\n",
        "model_daHum.add(Dense(units = next,activation='softmax'))\n",
        "model_daHum.compile(optimizer='adam', loss='mean_squared_error',metrics=['acc'])\n",
        "\n",
        "history_da = model_daHum.fit(x_train_da, y_train_da, epochs=45, batch_size=75 )"
      ],
      "execution_count": null,
      "outputs": [
        {
          "output_type": "stream",
          "text": [
            "Epoch 1/45\n",
            "400/400 [==============================] - 2s 6ms/step - loss: 0.1815 - acc: 0.4935\n",
            "Epoch 2/45\n",
            "400/400 [==============================] - 2s 6ms/step - loss: 0.1814 - acc: 0.5198\n",
            "Epoch 3/45\n",
            "400/400 [==============================] - 2s 6ms/step - loss: 0.1813 - acc: 0.5211\n",
            "Epoch 4/45\n",
            "400/400 [==============================] - 2s 6ms/step - loss: 0.1813 - acc: 0.5227\n",
            "Epoch 5/45\n",
            "400/400 [==============================] - 2s 6ms/step - loss: 0.1813 - acc: 0.5240\n",
            "Epoch 6/45\n",
            "400/400 [==============================] - 2s 6ms/step - loss: 0.1813 - acc: 0.5240\n",
            "Epoch 7/45\n",
            "400/400 [==============================] - 2s 6ms/step - loss: 0.1813 - acc: 0.5262\n",
            "Epoch 8/45\n",
            "400/400 [==============================] - 2s 6ms/step - loss: 0.1813 - acc: 0.5259\n",
            "Epoch 9/45\n",
            "400/400 [==============================] - 2s 6ms/step - loss: 0.1813 - acc: 0.5245\n",
            "Epoch 10/45\n",
            "400/400 [==============================] - 2s 6ms/step - loss: 0.1813 - acc: 0.5245\n",
            "Epoch 11/45\n",
            "400/400 [==============================] - 2s 6ms/step - loss: 0.1813 - acc: 0.5241\n",
            "Epoch 12/45\n",
            "400/400 [==============================] - 2s 6ms/step - loss: 0.1813 - acc: 0.5272\n",
            "Epoch 13/45\n",
            "400/400 [==============================] - 2s 6ms/step - loss: 0.1813 - acc: 0.5247\n",
            "Epoch 14/45\n",
            "400/400 [==============================] - 2s 6ms/step - loss: 0.1813 - acc: 0.5243\n",
            "Epoch 15/45\n",
            "400/400 [==============================] - 2s 6ms/step - loss: 0.1813 - acc: 0.5255\n",
            "Epoch 16/45\n",
            "400/400 [==============================] - 2s 6ms/step - loss: 0.1813 - acc: 0.5250\n",
            "Epoch 17/45\n",
            "400/400 [==============================] - 2s 6ms/step - loss: 0.1813 - acc: 0.5258\n",
            "Epoch 18/45\n",
            "400/400 [==============================] - 2s 6ms/step - loss: 0.1813 - acc: 0.5248\n",
            "Epoch 19/45\n",
            "400/400 [==============================] - 2s 6ms/step - loss: 0.1813 - acc: 0.5266\n",
            "Epoch 20/45\n",
            "400/400 [==============================] - 2s 6ms/step - loss: 0.1813 - acc: 0.5263\n",
            "Epoch 21/45\n",
            "400/400 [==============================] - 2s 6ms/step - loss: 0.1813 - acc: 0.5261\n",
            "Epoch 22/45\n",
            "400/400 [==============================] - 2s 6ms/step - loss: 0.1813 - acc: 0.5257\n",
            "Epoch 23/45\n",
            "400/400 [==============================] - 2s 6ms/step - loss: 0.1813 - acc: 0.5240\n",
            "Epoch 24/45\n",
            "400/400 [==============================] - 2s 6ms/step - loss: 0.1813 - acc: 0.5280\n",
            "Epoch 25/45\n",
            "400/400 [==============================] - 2s 6ms/step - loss: 0.1813 - acc: 0.5258\n",
            "Epoch 26/45\n",
            "400/400 [==============================] - 2s 6ms/step - loss: 0.1813 - acc: 0.5244\n",
            "Epoch 27/45\n",
            "400/400 [==============================] - 2s 6ms/step - loss: 0.1813 - acc: 0.5258\n",
            "Epoch 28/45\n",
            "400/400 [==============================] - 2s 6ms/step - loss: 0.1813 - acc: 0.5283\n",
            "Epoch 29/45\n",
            "400/400 [==============================] - 2s 6ms/step - loss: 0.1813 - acc: 0.5244\n",
            "Epoch 30/45\n",
            "400/400 [==============================] - 2s 6ms/step - loss: 0.1813 - acc: 0.5258\n",
            "Epoch 31/45\n",
            "400/400 [==============================] - 2s 6ms/step - loss: 0.1813 - acc: 0.5242\n",
            "Epoch 32/45\n",
            "400/400 [==============================] - 2s 6ms/step - loss: 0.1813 - acc: 0.5264\n",
            "Epoch 33/45\n",
            "400/400 [==============================] - 2s 6ms/step - loss: 0.1813 - acc: 0.5274\n",
            "Epoch 34/45\n",
            "400/400 [==============================] - 2s 6ms/step - loss: 0.1813 - acc: 0.5243\n",
            "Epoch 35/45\n",
            "400/400 [==============================] - 2s 6ms/step - loss: 0.1813 - acc: 0.5246\n",
            "Epoch 36/45\n",
            "400/400 [==============================] - 2s 6ms/step - loss: 0.1813 - acc: 0.5268\n",
            "Epoch 37/45\n",
            "400/400 [==============================] - 2s 6ms/step - loss: 0.1813 - acc: 0.5265\n",
            "Epoch 38/45\n",
            "400/400 [==============================] - 2s 6ms/step - loss: 0.1813 - acc: 0.5269\n",
            "Epoch 39/45\n",
            "400/400 [==============================] - 2s 6ms/step - loss: 0.1813 - acc: 0.5264\n",
            "Epoch 40/45\n",
            "400/400 [==============================] - 2s 6ms/step - loss: 0.1813 - acc: 0.5264\n",
            "Epoch 41/45\n",
            "400/400 [==============================] - 2s 6ms/step - loss: 0.1813 - acc: 0.5254\n",
            "Epoch 42/45\n",
            "400/400 [==============================] - 2s 6ms/step - loss: 0.1813 - acc: 0.5290\n",
            "Epoch 43/45\n",
            "400/400 [==============================] - 2s 6ms/step - loss: 0.1813 - acc: 0.5286\n",
            "Epoch 44/45\n",
            "400/400 [==============================] - 2s 6ms/step - loss: 0.1813 - acc: 0.5288\n",
            "Epoch 45/45\n",
            "400/400 [==============================] - 2s 6ms/step - loss: 0.1813 - acc: 0.5254\n"
          ],
          "name": "stdout"
        }
      ]
    },
    {
      "cell_type": "code",
      "metadata": {
        "id": "n1R9SwviG441",
        "colab_type": "code",
        "colab": {
          "base_uri": "https://localhost:8080/",
          "height": 645
        },
        "outputId": "6ed67d1e-9fea-442e-e3cc-70b55ecdc581"
      },
      "source": [
        "import matplotlib.pyplot as plt\n",
        "#Plot testing accuracy vs Epochs - higher epochs, higher batch\n",
        "plt.plot(history_da.history['acc']); plt.title('DALLAS: Training accuracy vs Epochs, alpha = 0.01'); plt.ylabel('Accuracy'); plt.xlabel('Epochs')\n",
        "plt.show()\n",
        "\n",
        "#Plot training loss vs Epochs\n",
        "plt.plot(history_da.history['loss']); plt.title('DALLAS: Training Loss vs Epochs, alpha = 0.01'); plt.ylabel('Loss'); plt.xlabel('Epochs')\n",
        "plt.show()\n",
        "\n",
        "print(f\"Training accuracy 25 epochs(lr 0.01): {history_da.history['acc'][-1] * 100} \"); print(f\"Training loss 25 epochs(lr 0.01): {history_da.history['loss'][-1]} \")\n",
        "\n",
        "print(history_da.epoch)"
      ],
      "execution_count": null,
      "outputs": [
        {
          "output_type": "display_data",
          "data": {
            "image/png": "[encoded data removed]",
            "text/plain": [
              "<Figure size 432x288 with 1 Axes>"
            ]
          },
          "metadata": {
            "tags": [],
            "needs_background": "light"
          }
        },
        {
          "output_type": "display_data",
          "data": {
            "image/png": "[encoded data removed]",
            "text/plain": [
              "<Figure size 432x288 with 1 Axes>"
            ]
          },
          "metadata": {
            "tags": [],
            "needs_background": "light"
          }
        },
        {
          "output_type": "stream",
          "text": [
            "Training accuracy 25 epochs(lr 0.01): 52.54446268081665 \n",
            "Training loss 25 epochs(lr 0.01): 0.18128545582294464 \n",
            "[0, 1, 2, 3, 4, 5, 6, 7, 8, 9, 10, 11, 12, 13, 14, 15, 16, 17, 18, 19, 20, 21, 22, 23, 24, 25, 26, 27, 28, 29, 30, 31, 32, 33, 34, 35, 36, 37, 38, 39, 40, 41, 42, 43, 44]\n"
          ],
          "name": "stdout"
        }
      ]
    },
    {
      "cell_type": "markdown",
      "metadata": {
        "id": "MrapSRr8FQo8",
        "colab_type": "text"
      },
      "source": [
        "**MODELING FOR HOUSTON CITY - HUMIDITY**"
      ]
    },
    {
      "cell_type": "code",
      "metadata": {
        "id": "VwXj6dJnGX6a",
        "colab_type": "code",
        "colab": {}
      },
      "source": [
        "# Modeling for Houston Humidity\n",
        "training_data = humH.iloc[:30000]; testing_data = humH.iloc[30000:]\n",
        "\n",
        "#Normalizing the data\n",
        "scaler_ha = MinMaxScaler(feature_range=(0,1)); training_data_normalized = scaler_ha.fit_transform(training_data)"
      ],
      "execution_count": null,
      "outputs": []
    },
    {
      "cell_type": "code",
      "metadata": {
        "id": "Sy9Im4mbGmWA",
        "colab_type": "code",
        "colab": {}
      },
      "source": [
        "# Split into input and outputs for Houston humidity\n",
        "x_train_ha = []; y_train_ha = []\n",
        "next = 4; past= 30\n",
        "\n",
        "for i in range(0,len(training_data_normalized)-past-next+1):\n",
        "    x_train_ha.append(training_data_normalized[i : i + past , 0])     \n",
        "    y_train_ha.append(training_data_normalized[i + past : i + past + next , 0 ])"
      ],
      "execution_count": null,
      "outputs": []
    },
    {
      "cell_type": "code",
      "metadata": {
        "id": "HTJxbSTEGzdh",
        "colab_type": "code",
        "colab": {}
      },
      "source": [
        "x_train_ha , y_train_ha = np.array(x_train_ha), np.array(y_train_ha)\n",
        "\n",
        "x_train_ha = np.reshape(x_train_ha, (x_train_ha.shape[0] , 1, x_train_ha.shape[1]))"
      ],
      "execution_count": null,
      "outputs": []
    },
    {
      "cell_type": "code",
      "metadata": {
        "id": "wtRcK5hXG8CR",
        "colab_type": "code",
        "colab": {
          "base_uri": "https://localhost:8080/",
          "height": 35
        },
        "outputId": "8e3a3d34-0e24-4af7-d3f4-4d0b2819cde5"
      },
      "source": [
        "x_train_ha.shape"
      ],
      "execution_count": null,
      "outputs": [
        {
          "output_type": "execute_result",
          "data": {
            "text/plain": [
              "(29967, 1, 30)"
            ]
          },
          "metadata": {
            "tags": []
          },
          "execution_count": 75
        }
      ]
    },
    {
      "cell_type": "code",
      "metadata": {
        "id": "qyO5yxkYHAut",
        "colab_type": "code",
        "colab": {
          "base_uri": "https://localhost:8080/",
          "height": 884
        },
        "outputId": "8518cf0e-ca02-44be-e805-af66530e9995"
      },
      "source": [
        "from keras.layers import LSTM,Dense,Dropout\n",
        "\n",
        "# Training for 25 Epochs\n",
        "model_haHum = Sequential()\n",
        "\n",
        "model_haHum.add(LSTM(units=50, return_sequences=True, input_shape = (x_train_ha.shape[1],x_train_ha.shape[2])))\n",
        "model_haHum.add(Dropout(0.2))\n",
        "model_haHum.add(LSTM(32, return_sequences=True))\n",
        "model_haHum.add(Dropout(0.2))\n",
        "model_haHum.add(LSTM(32))\n",
        "model_haHum.add(Dense(units = next,activation='softmax'))\n",
        "model_haHum.compile(optimizer='adam', loss='mean_squared_error',metrics=['acc'])\n",
        "\n",
        "history_ha = model_haHum.fit(x_train_ha, y_train_ha, epochs=25,batch_size=100 )"
      ],
      "execution_count": null,
      "outputs": [
        {
          "output_type": "stream",
          "text": [
            "Epoch 1/25\n",
            "300/300 [==============================] - 2s 6ms/step - loss: 0.2538 - acc: 0.5065\n",
            "Epoch 2/25\n",
            "300/300 [==============================] - 2s 6ms/step - loss: 0.2535 - acc: 0.5167\n",
            "Epoch 3/25\n",
            "300/300 [==============================] - 2s 6ms/step - loss: 0.2535 - acc: 0.5148\n",
            "Epoch 4/25\n",
            "300/300 [==============================] - 2s 6ms/step - loss: 0.2534 - acc: 0.5148\n",
            "Epoch 5/25\n",
            "300/300 [==============================] - 2s 6ms/step - loss: 0.2534 - acc: 0.5158\n",
            "Epoch 6/25\n",
            "300/300 [==============================] - 2s 6ms/step - loss: 0.2534 - acc: 0.5177\n",
            "Epoch 7/25\n",
            "300/300 [==============================] - 2s 6ms/step - loss: 0.2534 - acc: 0.5162\n",
            "Epoch 8/25\n",
            "300/300 [==============================] - 2s 6ms/step - loss: 0.2534 - acc: 0.5181\n",
            "Epoch 9/25\n",
            "300/300 [==============================] - 2s 6ms/step - loss: 0.2534 - acc: 0.5166\n",
            "Epoch 10/25\n",
            "300/300 [==============================] - 2s 6ms/step - loss: 0.2534 - acc: 0.5168\n",
            "Epoch 11/25\n",
            "300/300 [==============================] - 2s 6ms/step - loss: 0.2534 - acc: 0.5196\n",
            "Epoch 12/25\n",
            "300/300 [==============================] - 2s 6ms/step - loss: 0.2534 - acc: 0.5185\n",
            "Epoch 13/25\n",
            "300/300 [==============================] - 2s 6ms/step - loss: 0.2534 - acc: 0.5166\n",
            "Epoch 14/25\n",
            "300/300 [==============================] - 2s 6ms/step - loss: 0.2534 - acc: 0.5164\n",
            "Epoch 15/25\n",
            "300/300 [==============================] - 2s 6ms/step - loss: 0.2534 - acc: 0.5197\n",
            "Epoch 16/25\n",
            "300/300 [==============================] - 2s 6ms/step - loss: 0.2534 - acc: 0.5196\n",
            "Epoch 17/25\n",
            "300/300 [==============================] - 2s 6ms/step - loss: 0.2534 - acc: 0.5185\n",
            "Epoch 18/25\n",
            "300/300 [==============================] - 2s 6ms/step - loss: 0.2534 - acc: 0.5177\n",
            "Epoch 19/25\n",
            "300/300 [==============================] - 2s 6ms/step - loss: 0.2534 - acc: 0.5177\n",
            "Epoch 20/25\n",
            "300/300 [==============================] - 2s 6ms/step - loss: 0.2534 - acc: 0.5177\n",
            "Epoch 21/25\n",
            "300/300 [==============================] - 2s 6ms/step - loss: 0.2534 - acc: 0.5167\n",
            "Epoch 22/25\n",
            "300/300 [==============================] - 2s 6ms/step - loss: 0.2534 - acc: 0.5189\n",
            "Epoch 23/25\n",
            "300/300 [==============================] - 2s 6ms/step - loss: 0.2534 - acc: 0.5139\n",
            "Epoch 24/25\n",
            "300/300 [==============================] - 2s 6ms/step - loss: 0.2534 - acc: 0.5186\n",
            "Epoch 25/25\n",
            "300/300 [==============================] - 2s 6ms/step - loss: 0.2534 - acc: 0.5163\n"
          ],
          "name": "stdout"
        }
      ]
    },
    {
      "cell_type": "code",
      "metadata": {
        "id": "zz8fiWg-HVD0",
        "colab_type": "code",
        "colab": {
          "base_uri": "https://localhost:8080/",
          "height": 625
        },
        "outputId": "bd6d174f-55df-44d7-c2a5-a107a5dfb564"
      },
      "source": [
        "import matplotlib.pyplot as plt\n",
        "#Plot testing accuracy vs Epochs\n",
        "plt.plot(history_ha.history['acc']); plt.title('HOUSTON: Training accuracy vs Epochs, alpha = 0.01'); plt.ylabel('Accuracy'); plt.xlabel('Epochs')\n",
        "plt.show()\n",
        "\n",
        "#Plot training loss vs Epochs\n",
        "plt.plot(history_ha.history['loss']); plt.title('HOUSTON: Training Loss vs Epochs, alpha = 0.01'); plt.ylabel('Loss'); plt.xlabel('Epochs')\n",
        "plt.show()\n",
        "\n",
        "print(f\"Training accuracy 25 epochs(lr 0.01): {history_ha.history['acc'][-1] * 100} \"); print(f\"Training loss 25 epochs(lr 0.01): {history_ha.history['loss'][-1]} \")\n",
        "\n",
        "print(history_ha.epoch)"
      ],
      "execution_count": null,
      "outputs": [
        {
          "output_type": "display_data",
          "data": {
            "image/png": "[encoded data removed]",
            "text/plain": [
              "<Figure size 432x288 with 1 Axes>"
            ]
          },
          "metadata": {
            "tags": [],
            "needs_background": "light"
          }
        },
        {
          "output_type": "display_data",
          "data": {
            "image/png": "[encoded data removed]",
            "text/plain": [
              "<Figure size 432x288 with 1 Axes>"
            ]
          },
          "metadata": {
            "tags": [],
            "needs_background": "light"
          }
        },
        {
          "output_type": "stream",
          "text": [
            "Training accuracy 25 epochs(lr 0.01): 51.63012742996216 \n",
            "Training loss 25 epochs(lr 0.01): 0.25337618589401245 \n",
            "[0, 1, 2, 3, 4, 5, 6, 7, 8, 9, 10, 11, 12, 13, 14, 15, 16, 17, 18, 19, 20, 21, 22, 23, 24]\n"
          ],
          "name": "stdout"
        }
      ]
    },
    {
      "cell_type": "code",
      "metadata": {
        "id": "9f25XDF9HODc",
        "colab_type": "code",
        "colab": {
          "base_uri": "https://localhost:8080/",
          "height": 1000
        },
        "outputId": "9923c3fb-bfca-4231-b220-9ec589db6451"
      },
      "source": [
        "from keras.layers import LSTM,Dense,Dropout\n",
        "\n",
        "# Training for 45 Epochs, batch size= 75\n",
        "model_haHum = Sequential()\n",
        "\n",
        "model_haHum.add(LSTM(units=50, return_sequences=True, input_shape = (x_train_ha.shape[1],x_train_ha.shape[2])))\n",
        "model_haHum.add(Dropout(0.2))\n",
        "model_haHum.add(LSTM(32, return_sequences=True))\n",
        "model_haHum.add(Dropout(0.2))\n",
        "model_haHum.add(LSTM(32))\n",
        "model_haHum.add(Dense(units = next,activation='softmax'))\n",
        "model_haHum.compile(optimizer='adam', loss='mean_squared_error',metrics=['acc'])\n",
        "\n",
        "history_ha = model_haHum.fit(x_train_ha, y_train_ha, epochs=45, batch_size=75 )"
      ],
      "execution_count": null,
      "outputs": [
        {
          "output_type": "stream",
          "text": [
            "Epoch 1/45\n",
            "400/400 [==============================] - 2s 6ms/step - loss: 0.2537 - acc: 0.4937\n",
            "Epoch 2/45\n",
            "400/400 [==============================] - 2s 6ms/step - loss: 0.2535 - acc: 0.5146\n",
            "Epoch 3/45\n",
            "400/400 [==============================] - 2s 6ms/step - loss: 0.2535 - acc: 0.5147\n",
            "Epoch 4/45\n",
            "400/400 [==============================] - 2s 6ms/step - loss: 0.2534 - acc: 0.5154\n",
            "Epoch 5/45\n",
            "400/400 [==============================] - 2s 6ms/step - loss: 0.2534 - acc: 0.5166\n",
            "Epoch 6/45\n",
            "400/400 [==============================] - 2s 6ms/step - loss: 0.2534 - acc: 0.5165\n",
            "Epoch 7/45\n",
            "400/400 [==============================] - 2s 6ms/step - loss: 0.2534 - acc: 0.5173\n",
            "Epoch 8/45\n",
            "400/400 [==============================] - 2s 6ms/step - loss: 0.2534 - acc: 0.5156\n",
            "Epoch 9/45\n",
            "400/400 [==============================] - 2s 6ms/step - loss: 0.2534 - acc: 0.5178\n",
            "Epoch 10/45\n",
            "400/400 [==============================] - 2s 6ms/step - loss: 0.2534 - acc: 0.5164\n",
            "Epoch 11/45\n",
            "400/400 [==============================] - 2s 6ms/step - loss: 0.2534 - acc: 0.5150\n",
            "Epoch 12/45\n",
            "400/400 [==============================] - 2s 6ms/step - loss: 0.2534 - acc: 0.5150\n",
            "Epoch 13/45\n",
            "400/400 [==============================] - 2s 6ms/step - loss: 0.2534 - acc: 0.5148\n",
            "Epoch 14/45\n",
            "400/400 [==============================] - 2s 6ms/step - loss: 0.2534 - acc: 0.5154\n",
            "Epoch 15/45\n",
            "400/400 [==============================] - 2s 6ms/step - loss: 0.2534 - acc: 0.5135\n",
            "Epoch 16/45\n",
            "400/400 [==============================] - 2s 6ms/step - loss: 0.2534 - acc: 0.5129\n",
            "Epoch 17/45\n",
            "400/400 [==============================] - 2s 6ms/step - loss: 0.2534 - acc: 0.5148\n",
            "Epoch 18/45\n",
            "400/400 [==============================] - 2s 6ms/step - loss: 0.2534 - acc: 0.5154\n",
            "Epoch 19/45\n",
            "400/400 [==============================] - 2s 6ms/step - loss: 0.2534 - acc: 0.5153\n",
            "Epoch 20/45\n",
            "400/400 [==============================] - 2s 6ms/step - loss: 0.2534 - acc: 0.5148\n",
            "Epoch 21/45\n",
            "400/400 [==============================] - 2s 6ms/step - loss: 0.2534 - acc: 0.5191\n",
            "Epoch 22/45\n",
            "400/400 [==============================] - 2s 6ms/step - loss: 0.2534 - acc: 0.5154\n",
            "Epoch 23/45\n",
            "400/400 [==============================] - 2s 6ms/step - loss: 0.2534 - acc: 0.5170\n",
            "Epoch 24/45\n",
            "400/400 [==============================] - 2s 6ms/step - loss: 0.2534 - acc: 0.5161\n",
            "Epoch 25/45\n",
            "400/400 [==============================] - 2s 6ms/step - loss: 0.2534 - acc: 0.5182\n",
            "Epoch 26/45\n",
            "400/400 [==============================] - 2s 6ms/step - loss: 0.2534 - acc: 0.5193\n",
            "Epoch 27/45\n",
            "400/400 [==============================] - 2s 6ms/step - loss: 0.2534 - acc: 0.5169\n",
            "Epoch 28/45\n",
            "400/400 [==============================] - 2s 6ms/step - loss: 0.2534 - acc: 0.5172\n",
            "Epoch 29/45\n",
            "400/400 [==============================] - 2s 6ms/step - loss: 0.2534 - acc: 0.5177\n",
            "Epoch 30/45\n",
            "400/400 [==============================] - 2s 6ms/step - loss: 0.2534 - acc: 0.5168\n",
            "Epoch 31/45\n",
            "400/400 [==============================] - 2s 6ms/step - loss: 0.2534 - acc: 0.5148\n",
            "Epoch 32/45\n",
            "400/400 [==============================] - 2s 6ms/step - loss: 0.2534 - acc: 0.5158\n",
            "Epoch 33/45\n",
            "400/400 [==============================] - 2s 6ms/step - loss: 0.2534 - acc: 0.5177\n",
            "Epoch 34/45\n",
            "400/400 [==============================] - 2s 6ms/step - loss: 0.2534 - acc: 0.5172\n",
            "Epoch 35/45\n",
            "400/400 [==============================] - 2s 6ms/step - loss: 0.2534 - acc: 0.5166\n",
            "Epoch 36/45\n",
            "400/400 [==============================] - 2s 6ms/step - loss: 0.2534 - acc: 0.5161\n",
            "Epoch 37/45\n",
            "400/400 [==============================] - 2s 6ms/step - loss: 0.2534 - acc: 0.5143\n",
            "Epoch 38/45\n",
            "400/400 [==============================] - 2s 6ms/step - loss: 0.2534 - acc: 0.5133\n",
            "Epoch 39/45\n",
            "400/400 [==============================] - 2s 6ms/step - loss: 0.2534 - acc: 0.5158\n",
            "Epoch 40/45\n",
            "400/400 [==============================] - 2s 6ms/step - loss: 0.2534 - acc: 0.5176\n",
            "Epoch 41/45\n",
            "400/400 [==============================] - 2s 6ms/step - loss: 0.2534 - acc: 0.5170\n",
            "Epoch 42/45\n",
            "400/400 [==============================] - 2s 6ms/step - loss: 0.2534 - acc: 0.5169\n",
            "Epoch 43/45\n",
            "400/400 [==============================] - 2s 6ms/step - loss: 0.2534 - acc: 0.5167\n",
            "Epoch 44/45\n",
            "400/400 [==============================] - 2s 6ms/step - loss: 0.2534 - acc: 0.5189\n",
            "Epoch 45/45\n",
            "400/400 [==============================] - 2s 6ms/step - loss: 0.2534 - acc: 0.5163\n"
          ],
          "name": "stdout"
        }
      ]
    },
    {
      "cell_type": "code",
      "metadata": {
        "id": "2a1NZZQ7HRby",
        "colab_type": "code",
        "colab": {
          "base_uri": "https://localhost:8080/",
          "height": 645
        },
        "outputId": "e7c80331-f2a8-4397-b2fc-f74fd454415a"
      },
      "source": [
        "import matplotlib.pyplot as plt\n",
        "#Plot testing accuracy vs Epochs -  higher epochs, higher batch\n",
        "plt.plot(history_ha.history['acc']); plt.title('HOUSTON: Training accuracy vs Epochs, alpha = 0.01'); plt.ylabel('Accuracy'); plt.xlabel('Epochs')\n",
        "plt.show()\n",
        "\n",
        "#Plot training loss vs Epochs\n",
        "plt.plot(history_ha.history['loss']); plt.title('HOUSTON: Training Loss vs Epochs, alpha = 0.01'); plt.ylabel('Loss'); plt.xlabel('Epochs')\n",
        "plt.show()\n",
        "\n",
        "print(f\"Training accuracy 25 epochs(lr 0.01): {history_ha.history['acc'][-1] * 100} \"); print(f\"Training loss 25 epochs(lr 0.01): {history_ha.history['loss'][-1]} \")\n",
        "\n",
        "print(history_ha.epoch)"
      ],
      "execution_count": null,
      "outputs": [
        {
          "output_type": "display_data",
          "data": {
            "image/png": "[encoded data removed]",
            "text/plain": [
              "<Figure size 432x288 with 1 Axes>"
            ]
          },
          "metadata": {
            "tags": [],
            "needs_background": "light"
          }
        },
        {
          "output_type": "display_data",
          "data": {
            "image/png": "[encoded data removed]",
            "text/plain": [
              "<Figure size 432x288 with 1 Axes>"
            ]
          },
          "metadata": {
            "tags": [],
            "needs_background": "light"
          }
        },
        {
          "output_type": "stream",
          "text": [
            "Training accuracy 25 epochs(lr 0.01): 51.63012742996216 \n",
            "Training loss 25 epochs(lr 0.01): 0.253351628780365 \n",
            "[0, 1, 2, 3, 4, 5, 6, 7, 8, 9, 10, 11, 12, 13, 14, 15, 16, 17, 18, 19, 20, 21, 22, 23, 24, 25, 26, 27, 28, 29, 30, 31, 32, 33, 34, 35, 36, 37, 38, 39, 40, 41, 42, 43, 44]\n"
          ],
          "name": "stdout"
        }
      ]
    }
  ]
}